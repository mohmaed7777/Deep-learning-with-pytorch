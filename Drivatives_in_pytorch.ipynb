{
  "nbformat": 4,
  "nbformat_minor": 0,
  "metadata": {
    "colab": {
      "name": "Drivatives in pytorch.ipynb",
      "provenance": [],
      "authorship_tag": "ABX9TyOlejY+t3AZ/qWwIrwqRbzH",
      "include_colab_link": true
    },
    "kernelspec": {
      "name": "python3",
      "display_name": "Python 3"
    }
  },
  "cells": [
    {
      "cell_type": "markdown",
      "metadata": {
        "id": "view-in-github",
        "colab_type": "text"
      },
      "source": [
        "<a href=\"https://colab.research.google.com/github/mohmaed7777/Deep-learning-with-pytorch/blob/master/Drivatives_in_pytorch.ipynb\" target=\"_parent\"><img src=\"https://colab.research.google.com/assets/colab-badge.svg\" alt=\"Open In Colab\"/></a>"
      ]
    },
    {
      "cell_type": "code",
      "metadata": {
        "id": "-i7V9QPkfATa",
        "colab_type": "code",
        "colab": {}
      },
      "source": [
        "import torch \n",
        "import matplotlib.pyplot as plt \n",
        "%matplotlib inline "
      ],
      "execution_count": 2,
      "outputs": []
    },
    {
      "cell_type": "markdown",
      "metadata": {
        "id": "9yWxgZwUfo-W",
        "colab_type": "text"
      },
      "source": [
        "**Derivatives**\n",
        "\n",
        "Let us create the tensor x and set the parameter requires_grad to true because you are going to take the derivative of the tensor. "
      ]
    },
    {
      "cell_type": "code",
      "metadata": {
        "id": "xiTMo2xufezv",
        "colab_type": "code",
        "colab": {
          "base_uri": "https://localhost:8080/",
          "height": 34
        },
        "outputId": "70c1a8ee-8139-474c-9dc3-85bf9c135b61"
      },
      "source": [
        "x = torch.tensor(2.0, requires_grad=True)\n",
        "print('The tensor x :', x)"
      ],
      "execution_count": 3,
      "outputs": [
        {
          "output_type": "stream",
          "text": [
            "The tensor x : tensor(2., requires_grad=True)\n"
          ],
          "name": "stdout"
        }
      ]
    },
    {
      "cell_type": "markdown",
      "metadata": {
        "id": "6lyNw7Pof9DW",
        "colab_type": "text"
      },
      "source": [
        "Then let us create a tensor according to the equation  𝑦=𝑥2 ."
      ]
    },
    {
      "cell_type": "code",
      "metadata": {
        "id": "n5mnYLCPf6UH",
        "colab_type": "code",
        "colab": {
          "base_uri": "https://localhost:8080/",
          "height": 34
        },
        "outputId": "ac309482-0978-4b3d-a858-0f61fe05f342"
      },
      "source": [
        "y = x**2\n",
        "print('The result of y is :', y)"
      ],
      "execution_count": 4,
      "outputs": [
        {
          "output_type": "stream",
          "text": [
            "The result of y is : tensor(4., grad_fn=<PowBackward0>)\n"
          ],
          "name": "stdout"
        }
      ]
    },
    {
      "cell_type": "code",
      "metadata": {
        "id": "E3Jcck64gNe0",
        "colab_type": "code",
        "colab": {
          "base_uri": "https://localhost:8080/",
          "height": 34
        },
        "outputId": "2cb3b937-3092-4d75-8e14-83756f1319c8"
      },
      "source": [
        "# let us to take the dravitives with respect of x \n",
        "# at x = 2 \n",
        "y.backward()\n",
        "x.grad"
      ],
      "execution_count": 5,
      "outputs": [
        {
          "output_type": "execute_result",
          "data": {
            "text/plain": [
              "tensor(4.)"
            ]
          },
          "metadata": {
            "tags": []
          },
          "execution_count": 5
        }
      ]
    },
    {
      "cell_type": "markdown",
      "metadata": {
        "id": "95R0mtyjjUhw",
        "colab_type": "text"
      },
      "source": [
        "Let us try to calculate the derivative for a more complicated function."
      ]
    },
    {
      "cell_type": "code",
      "metadata": {
        "id": "10uBMj7fjMI8",
        "colab_type": "code",
        "colab": {
          "base_uri": "https://localhost:8080/",
          "height": 52
        },
        "outputId": "484341a9-b191-4c56-b358-a5ce3a7a65b7"
      },
      "source": [
        "x = torch.tensor(2.0, requires_grad=True)\n",
        "y = x ** 2 + 2 * x + 1 \n",
        "print('The result of y =', y)\n",
        "y.backward()\n",
        "print('The dravitives at x = 2: ', x.grad)"
      ],
      "execution_count": 6,
      "outputs": [
        {
          "output_type": "stream",
          "text": [
            "The result of y = tensor(9., grad_fn=<AddBackward0>)\n",
            "The dravitives at x = 2:  tensor(6.)\n"
          ],
          "name": "stdout"
        }
      ]
    },
    {
      "cell_type": "code",
      "metadata": {
        "id": "tCZJkWloj1H8",
        "colab_type": "code",
        "colab": {
          "base_uri": "https://localhost:8080/",
          "height": 52
        },
        "outputId": "d9e809b2-3be8-4b4d-fd39-b8eea97a8319"
      },
      "source": [
        "\"\"\" PRACTICE EX  \"\"\"\n",
        "# Determine the dravitives of y = 2𝑥3+𝑥  at 𝑥=1\n",
        "x = torch.tensor(1.0, requires_grad=True)\n",
        "y = 2 * x * x * x + x \n",
        "print('The result of y : ', y)\n",
        "y.backward()\n",
        "print('The dravitives when x = 1.0: ', x.grad)"
      ],
      "execution_count": 7,
      "outputs": [
        {
          "output_type": "stream",
          "text": [
            "The result of y :  tensor(3., grad_fn=<AddBackward0>)\n",
            "The dravitives when x = 1.0:  tensor(7.)\n"
          ],
          "name": "stdout"
        }
      ]
    },
    {
      "cell_type": "code",
      "metadata": {
        "id": "Px5IOaqNlRdq",
        "colab_type": "code",
        "colab": {
          "base_uri": "https://localhost:8080/",
          "height": 52
        },
        "outputId": "486b9b0d-5a47-4207-f531-13eef42e9e53"
      },
      "source": [
        "# Find the dravitivs at x = 3 as follows : \n",
        "x = torch.tensor(3.0, requires_grad=True)\n",
        "y = 3 * x**2 + 2 * x + x + 2 \n",
        "print('The result of y when x= 3.0=====> ', y)\n",
        "y.backward()\n",
        "print('The dravitives when x=3.0', x.grad)"
      ],
      "execution_count": 9,
      "outputs": [
        {
          "output_type": "stream",
          "text": [
            "The result of y when x= 3.0=====>  tensor(38., grad_fn=<AddBackward0>)\n",
            "The dravitives when x=3.0 tensor(21.)\n"
          ],
          "name": "stdout"
        }
      ]
    },
    {
      "cell_type": "code",
      "metadata": {
        "id": "bpWFPxi03cJ1",
        "colab_type": "code",
        "colab": {
          "base_uri": "https://localhost:8080/",
          "height": 105
        },
        "outputId": "fe859909-bdd6-404f-961e-a2da91d033a0"
      },
      "source": [
        "print('data:',x.data)\n",
        "print('grad_fn:',x.grad_fn)\n",
        "print('grad:',x.grad)\n",
        "print(\"is_leaf:\",x.is_leaf)\n",
        "print(\"requires_grad:\",x.requires_grad)"
      ],
      "execution_count": 11,
      "outputs": [
        {
          "output_type": "stream",
          "text": [
            "data: tensor(3.)\n",
            "grad_fn: None\n",
            "grad: tensor(21.)\n",
            "is_leaf: True\n",
            "requires_grad: True\n"
          ],
          "name": "stdout"
        }
      ]
    },
    {
      "cell_type": "code",
      "metadata": {
        "id": "QV2bmUU676nm",
        "colab_type": "code",
        "colab": {
          "base_uri": "https://localhost:8080/",
          "height": 160
        },
        "outputId": "914f7e74-1f02-46af-8ef2-eea076d83400"
      },
      "source": [
        "print('data:',y.data)\n",
        "print('grad_fn:',y.grad_fn)\n",
        "print('grad:',y.grad)\n",
        "print(\"is_leaf:\",y.is_leaf)\n",
        "print(\"requires_grad:\",y.requires_grad)"
      ],
      "execution_count": 12,
      "outputs": [
        {
          "output_type": "stream",
          "text": [
            "data: tensor(38.)\n",
            "grad_fn: <AddBackward0 object at 0x7fa7aa837978>\n",
            "grad: None\n",
            "is_leaf: False\n",
            "requires_grad: True\n"
          ],
          "name": "stdout"
        },
        {
          "output_type": "stream",
          "text": [
            "/usr/local/lib/python3.6/dist-packages/ipykernel_launcher.py:3: UserWarning: The .grad attribute of a Tensor that is not a leaf Tensor is being accessed. Its .grad attribute won't be populated during autograd.backward(). If you indeed want the gradient for a non-leaf Tensor, use .retain_grad() on the non-leaf Tensor. If you access the non-leaf Tensor by mistake, make sure you access the leaf Tensor instead. See github.com/pytorch/pytorch/pull/30531 for more informations.\n",
            "  This is separate from the ipykernel package so we can avoid doing imports until\n"
          ],
          "name": "stderr"
        }
      ]
    },
    {
      "cell_type": "markdown",
      "metadata": {
        "id": "LJZCJ1rD8J4Y",
        "colab_type": "text"
      },
      "source": [
        "**Partial Dervatives:**"
      ]
    },
    {
      "cell_type": "markdown",
      "metadata": {
        "id": "6jKjkF5G8X3V",
        "colab_type": "text"
      },
      "source": [
        "We can also calculate Partial Derivatives. Consider the function:  𝑓(𝑢,𝑣)=𝑣𝑢+𝑢2 \n",
        "Let us create u tensor, v tensor and f tensor"
      ]
    },
    {
      "cell_type": "code",
      "metadata": {
        "id": "8t4MxgE1791w",
        "colab_type": "code",
        "colab": {
          "base_uri": "https://localhost:8080/",
          "height": 34
        },
        "outputId": "c400dd29-b023-460f-bf15-d9aa28ed26f1"
      },
      "source": [
        "# Calculate f(u, v) = v * u + u^2 \n",
        "# When u = 1 & v = 2 \n",
        "u = torch.tensor(1.0, requires_grad=True)\n",
        "v = torch.tensor(2.0, requires_grad=True)\n",
        "f = v * u + u ** 2 \n",
        "print('The result of v * u + u ** 2:===> ', f)"
      ],
      "execution_count": 13,
      "outputs": [
        {
          "output_type": "stream",
          "text": [
            "The result of v * u + u ** 2:===>  tensor(3., grad_fn=<AddBackward0>)\n"
          ],
          "name": "stdout"
        }
      ]
    },
    {
      "cell_type": "code",
      "metadata": {
        "id": "U6lsy4b49HxL",
        "colab_type": "code",
        "colab": {
          "base_uri": "https://localhost:8080/",
          "height": 34
        },
        "outputId": "c1fd50c8-0478-4a36-d05e-5e5048a06fc1"
      },
      "source": [
        "# Calculate the dravitives with respect of u : \n",
        "f.backward()\n",
        "print('The partial dervatives with respect of u: ', u.grad)"
      ],
      "execution_count": 14,
      "outputs": [
        {
          "output_type": "stream",
          "text": [
            "The partial dervatives with respect of u:  tensor(4.)\n"
          ],
          "name": "stdout"
        }
      ]
    },
    {
      "cell_type": "markdown",
      "metadata": {
        "id": "glEB53hYAOQ9",
        "colab_type": "text"
      },
      "source": [
        "Calculate the derivative with respect to a function with multiple values as follows. You use the sum trick to produce a scalar valued function and then take the gradient:"
      ]
    },
    {
      "cell_type": "code",
      "metadata": {
        "id": "1UY0yNCKAAnF",
        "colab_type": "code",
        "colab": {}
      },
      "source": [
        "# Calculate the dravitives with multiple values: \n",
        "x = torch.linspace(-10, 10, 10, requires_grad=True)\n",
        "y = x ** 2 \n",
        "y = torch.sum(x ** 2)"
      ],
      "execution_count": 16,
      "outputs": []
    },
    {
      "cell_type": "code",
      "metadata": {
        "id": "ws78DuddAroL",
        "colab_type": "code",
        "colab": {
          "base_uri": "https://localhost:8080/",
          "height": 503
        },
        "outputId": "ae4128cc-a93a-478d-d7ba-aea5e65f0285"
      },
      "source": [
        "# We can plot the function and it's drvatives \n",
        "y.backward()\n",
        "plt.plot()\n",
        "plt.plot(x.detach().numpy(), Y.detach().numpy(), label = 'function')\n",
        "plt.plot(x.detach().numpy(), x.grad.detach().numpy(), label = 'derivative')\n",
        "plt.xlabel('x')\n",
        "plt.legend()\n",
        "plt.show()"
      ],
      "execution_count": 17,
      "outputs": [
        {
          "output_type": "error",
          "ename": "NameError",
          "evalue": "ignored",
          "traceback": [
            "\u001b[0;31m---------------------------------------------------------------------------\u001b[0m",
            "\u001b[0;31mNameError\u001b[0m                                 Traceback (most recent call last)",
            "\u001b[0;32m<ipython-input-17-89690749cad5>\u001b[0m in \u001b[0;36m<module>\u001b[0;34m()\u001b[0m\n\u001b[1;32m      2\u001b[0m \u001b[0my\u001b[0m\u001b[0;34m.\u001b[0m\u001b[0mbackward\u001b[0m\u001b[0;34m(\u001b[0m\u001b[0;34m)\u001b[0m\u001b[0;34m\u001b[0m\u001b[0;34m\u001b[0m\u001b[0m\n\u001b[1;32m      3\u001b[0m \u001b[0mplt\u001b[0m\u001b[0;34m.\u001b[0m\u001b[0mplot\u001b[0m\u001b[0;34m(\u001b[0m\u001b[0;34m)\u001b[0m\u001b[0;34m\u001b[0m\u001b[0;34m\u001b[0m\u001b[0m\n\u001b[0;32m----> 4\u001b[0;31m \u001b[0mplt\u001b[0m\u001b[0;34m.\u001b[0m\u001b[0mplot\u001b[0m\u001b[0;34m(\u001b[0m\u001b[0mx\u001b[0m\u001b[0;34m.\u001b[0m\u001b[0mdetach\u001b[0m\u001b[0;34m(\u001b[0m\u001b[0;34m)\u001b[0m\u001b[0;34m.\u001b[0m\u001b[0mnumpy\u001b[0m\u001b[0;34m(\u001b[0m\u001b[0;34m)\u001b[0m\u001b[0;34m,\u001b[0m \u001b[0mY\u001b[0m\u001b[0;34m.\u001b[0m\u001b[0mdetach\u001b[0m\u001b[0;34m(\u001b[0m\u001b[0;34m)\u001b[0m\u001b[0;34m.\u001b[0m\u001b[0mnumpy\u001b[0m\u001b[0;34m(\u001b[0m\u001b[0;34m)\u001b[0m\u001b[0;34m,\u001b[0m \u001b[0mlabel\u001b[0m \u001b[0;34m=\u001b[0m \u001b[0;34m'function'\u001b[0m\u001b[0;34m)\u001b[0m\u001b[0;34m\u001b[0m\u001b[0;34m\u001b[0m\u001b[0m\n\u001b[0m\u001b[1;32m      5\u001b[0m \u001b[0mplt\u001b[0m\u001b[0;34m.\u001b[0m\u001b[0mplot\u001b[0m\u001b[0;34m(\u001b[0m\u001b[0mx\u001b[0m\u001b[0;34m.\u001b[0m\u001b[0mdetach\u001b[0m\u001b[0;34m(\u001b[0m\u001b[0;34m)\u001b[0m\u001b[0;34m.\u001b[0m\u001b[0mnumpy\u001b[0m\u001b[0;34m(\u001b[0m\u001b[0;34m)\u001b[0m\u001b[0;34m,\u001b[0m \u001b[0mx\u001b[0m\u001b[0;34m.\u001b[0m\u001b[0mgrad\u001b[0m\u001b[0;34m.\u001b[0m\u001b[0mdetach\u001b[0m\u001b[0;34m(\u001b[0m\u001b[0;34m)\u001b[0m\u001b[0;34m.\u001b[0m\u001b[0mnumpy\u001b[0m\u001b[0;34m(\u001b[0m\u001b[0;34m)\u001b[0m\u001b[0;34m,\u001b[0m \u001b[0mlabel\u001b[0m \u001b[0;34m=\u001b[0m \u001b[0;34m'derivative'\u001b[0m\u001b[0;34m)\u001b[0m\u001b[0;34m\u001b[0m\u001b[0;34m\u001b[0m\u001b[0m\n\u001b[1;32m      6\u001b[0m \u001b[0mplt\u001b[0m\u001b[0;34m.\u001b[0m\u001b[0mxlabel\u001b[0m\u001b[0;34m(\u001b[0m\u001b[0;34m'x'\u001b[0m\u001b[0;34m)\u001b[0m\u001b[0;34m\u001b[0m\u001b[0;34m\u001b[0m\u001b[0m\n",
            "\u001b[0;31mNameError\u001b[0m: name 'Y' is not defined"
          ]
        },
        {
          "output_type": "display_data",
          "data": {
            "image/png": "[encoded data removed]",
            "text/plain": [
              "<Figure size 432x288 with 1 Axes>"
            ]
          },
          "metadata": {
            "tags": [],
            "needs_background": "light"
          }
        }
      ]
    }
  ]
}