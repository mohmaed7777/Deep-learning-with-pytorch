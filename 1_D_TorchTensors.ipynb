{
  "nbformat": 4,
  "nbformat_minor": 0,
  "metadata": {
    "colab": {
      "name": "1-D TorchTensors.ipynb",
      "provenance": [],
      "authorship_tag": "ABX9TyNuWjv41CfkLAX+fFgLGXXY",
      "include_colab_link": true
    },
    "kernelspec": {
      "name": "python3",
      "display_name": "Python 3"
    }
  },
  "cells": [
    {
      "cell_type": "markdown",
      "metadata": {
        "id": "view-in-github",
        "colab_type": "text"
      },
      "source": [
        "<a href=\"https://colab.research.google.com/github/mohmaed7777/Deep-learning-with-pytorch/blob/master/1_D_TorchTensors.ipynb\" target=\"_parent\"><img src=\"https://colab.research.google.com/assets/colab-badge.svg\" alt=\"Open In Colab\"/></a>"
      ]
    },
    {
      "cell_type": "markdown",
      "metadata": {
        "id": "L0elEFPSXIlY",
        "colab_type": "text"
      },
      "source": [
        "## **Preparation**\n",
        "\n",
        "Import the following libraries that we wil use for this lab:"
      ]
    },
    {
      "cell_type": "code",
      "metadata": {
        "id": "DkrhKGy2T4_U",
        "colab_type": "code",
        "colab": {}
      },
      "source": [
        "import torch \n",
        "import numpy as np\n",
        "import pandas as pd \n",
        "import matplotlib.pyplot as plt\n",
        "%matplotlib inline "
      ],
      "execution_count": 2,
      "outputs": []
    },
    {
      "cell_type": "code",
      "metadata": {
        "id": "ExU1ARubT9KJ",
        "colab_type": "code",
        "colab": {
          "base_uri": "https://localhost:8080/",
          "height": 34
        },
        "outputId": "559837b9-5581-4732-b83e-7905efe6a370"
      },
      "source": [
        "print(torch.__version__)"
      ],
      "execution_count": null,
      "outputs": [
        {
          "output_type": "stream",
          "text": [
            "1.6.0+cu101\n"
          ],
          "name": "stdout"
        }
      ]
    },
    {
      "cell_type": "markdown",
      "metadata": {
        "id": "HBblA_rmXxrX",
        "colab_type": "text"
      },
      "source": [
        "This is the function for plotting diagrams. You will use this function to plot the vectors in Coordinate system."
      ]
    },
    {
      "cell_type": "code",
      "metadata": {
        "id": "mI77cb2wUC2C",
        "colab_type": "code",
        "colab": {}
      },
      "source": [
        "# Plot vecotrs, please keep the parameters in the same length\n",
        "# @param: Vectors = [{\"vector\": vector variable, \"name\": name of vector, \"color\": color of the vector on diagram}]\n",
        "    \n",
        "def plotVec(vectors):\n",
        "    ax = plt.axes()\n",
        "    \n",
        "    # For loop to draw the vectors\n",
        "    for vec in vectors:\n",
        "        ax.arrow(0, 0, *vec[\"vector\"], head_width = 0.05,color = vec[\"color\"], head_length = 0.1)\n",
        "        plt.text(*(vec[\"vector\"] + 0.1), vec[\"name\"])\n",
        "    \n",
        "    plt.ylim(-2,2)\n",
        "    plt.xlim(-2,2)"
      ],
      "execution_count": null,
      "outputs": []
    },
    {
      "cell_type": "markdown",
      "metadata": {
        "id": "1RYkEz0mX79r",
        "colab_type": "text"
      },
      "source": [
        "# **Types and shapes:**"
      ]
    },
    {
      "cell_type": "code",
      "metadata": {
        "id": "rzaK32pTX58Z",
        "colab_type": "code",
        "colab": {
          "base_uri": "https://localhost:8080/",
          "height": 34
        },
        "outputId": "a31cbe67-5b26-40af-bff2-679098b76671"
      },
      "source": [
        "# convert an integer of python lists with length 5 to \n",
        "# a pytorch tensors as follows : \n",
        "a = [1, 2, 3, 4, 5]\n",
        "ints_to_tensors = torch.tensor(a)\n",
        "ints_to_tensors\n"
      ],
      "execution_count": null,
      "outputs": [
        {
          "output_type": "execute_result",
          "data": {
            "text/plain": [
              "tensor([1, 2, 3, 4, 5])"
            ]
          },
          "metadata": {
            "tags": []
          },
          "execution_count": 4
        }
      ]
    },
    {
      "cell_type": "code",
      "metadata": {
        "id": "ZKrhss4AYvSD",
        "colab_type": "code",
        "colab": {
          "base_uri": "https://localhost:8080/",
          "height": 52
        },
        "outputId": "5de61d6a-69ca-47d8-fea8-49aafa915c45"
      },
      "source": [
        "print('The dtype of tensor object after converting it to torch tensor: ',ints_to_tensors.dtype)\n",
        "print('The type of tensor object after converting it to torch tensor: ', ints_to_tensors.type())"
      ],
      "execution_count": null,
      "outputs": [
        {
          "output_type": "stream",
          "text": [
            "The dtype of tensor object after converting it to torch tensor:  torch.int64\n",
            "The type of tensor object after converting it to torch tensor:  torch.LongTensor\n"
          ],
          "name": "stdout"
        }
      ]
    },
    {
      "cell_type": "code",
      "metadata": {
        "id": "AEHJmYUmZnGE",
        "colab_type": "code",
        "colab": {
          "base_uri": "https://localhost:8080/",
          "height": 34
        },
        "outputId": "28e96bd3-fe7b-46da-a5ea-2fd73f271729"
      },
      "source": [
        "type(ints_to_tensors)"
      ],
      "execution_count": null,
      "outputs": [
        {
          "output_type": "execute_result",
          "data": {
            "text/plain": [
              "torch.Tensor"
            ]
          },
          "metadata": {
            "tags": []
          },
          "execution_count": 6
        }
      ]
    },
    {
      "cell_type": "code",
      "metadata": {
        "id": "xvRzBbrY-p3c",
        "colab_type": "code",
        "colab": {
          "base_uri": "https://localhost:8080/",
          "height": 34
        },
        "outputId": "6d78cfe2-40d2-44cc-c5e3-118203706038"
      },
      "source": [
        "# convert a float list with length 5 to a tensor :\n",
        "float_to_tensor = torch.tensor([0.0, 1.0,2.0, 3.0, 4.0])\n",
        "float_to_tensor"
      ],
      "execution_count": null,
      "outputs": [
        {
          "output_type": "execute_result",
          "data": {
            "text/plain": [
              "tensor([0., 1., 2., 3., 4.])"
            ]
          },
          "metadata": {
            "tags": []
          },
          "execution_count": 8
        }
      ]
    },
    {
      "cell_type": "code",
      "metadata": {
        "id": "IbsTaI4X_Kms",
        "colab_type": "code",
        "colab": {
          "base_uri": "https://localhost:8080/",
          "height": 52
        },
        "outputId": "7e4b7f9b-5453-4871-e51c-ce6b6df1d350"
      },
      "source": [
        "print('The dtype of tensor object after converting it to tensors==> ',float_to_tensor.dtype)\n",
        "print('The type of tensor after converting it to a tensor==> ',float_to_tensor.type())"
      ],
      "execution_count": null,
      "outputs": [
        {
          "output_type": "stream",
          "text": [
            "The dtype of tensor object after converting it to tensors==>  torch.float32\n",
            "The type of tensor after converting it to a tensor==>  torch.FloatTensor\n"
          ],
          "name": "stdout"
        }
      ]
    },
    {
      "cell_type": "code",
      "metadata": {
        "id": "CG-RZfOz_UQ-",
        "colab_type": "code",
        "colab": {
          "base_uri": "https://localhost:8080/",
          "height": 34
        },
        "outputId": "f55571f5-c6d3-475f-dc88-43fda4373449"
      },
      "source": [
        "# Convert a float python list to a float tensor : \n",
        "list_of_floats = [0.0, 1.0, 2.0, 3.0, 4.0]\n",
        "float_int_tensors = torch.tensor(list_of_floats, dtype=torch.int64)\n",
        "float_int_tensors"
      ],
      "execution_count": null,
      "outputs": [
        {
          "output_type": "execute_result",
          "data": {
            "text/plain": [
              "tensor([0, 1, 2, 3, 4])"
            ]
          },
          "metadata": {
            "tags": []
          },
          "execution_count": 10
        }
      ]
    },
    {
      "cell_type": "code",
      "metadata": {
        "id": "Dpugf2k8BN9d",
        "colab_type": "code",
        "colab": {
          "base_uri": "https://localhost:8080/",
          "height": 35
        },
        "outputId": "7f7c6312-2d85-4d46-935b-35a5fed66fd1"
      },
      "source": [
        "float_int_tensors.type()"
      ],
      "execution_count": null,
      "outputs": [
        {
          "output_type": "execute_result",
          "data": {
            "application/vnd.google.colaboratory.intrinsic+json": {
              "type": "string"
            },
            "text/plain": [
              "'torch.LongTensor'"
            ]
          },
          "metadata": {
            "tags": []
          },
          "execution_count": 11
        }
      ]
    },
    {
      "cell_type": "code",
      "metadata": {
        "id": "cMONlyriBSqh",
        "colab_type": "code",
        "colab": {
          "base_uri": "https://localhost:8080/",
          "height": 34
        },
        "outputId": "2933bfab-9a3c-4752-af49-2f075d5bab49"
      },
      "source": [
        "float_int_tensors.dtype"
      ],
      "execution_count": null,
      "outputs": [
        {
          "output_type": "execute_result",
          "data": {
            "text/plain": [
              "torch.int64"
            ]
          },
          "metadata": {
            "tags": []
          },
          "execution_count": 12
        }
      ]
    },
    {
      "cell_type": "markdown",
      "metadata": {
        "id": "SzKAHwYJBtXg",
        "colab_type": "text"
      },
      "source": [
        "From the previous examples, you see that torch.tensor() converts the list to the tensor type, which is similar to the original list type. However, what if you want to convert the list to a certain tensor type? torch contains the methods required to do this conversion. The following code converts an integer list to float tensor:"
      ]
    },
    {
      "cell_type": "code",
      "metadata": {
        "id": "KgPiFAxqBjtw",
        "colab_type": "code",
        "colab": {
          "base_uri": "https://localhost:8080/",
          "height": 52
        },
        "outputId": "b6fdb64b-5109-41c9-a7a1-3903b5d576af"
      },
      "source": [
        "# Convert an integer list with length 5 to a float tensors:\n",
        "new_float_tensor = torch.FloatTensor([1, 2, 3, 4, 5])\n",
        "print('The type of the new tensor==> ',new_float_tensor.type())\n",
        "print('The dtype of the new tensor==> ',new_float_tensor.dtype)"
      ],
      "execution_count": null,
      "outputs": [
        {
          "output_type": "stream",
          "text": [
            "The type of the new tensor==>  torch.FloatTensor\n",
            "The dtype of the new tensor==>  torch.float32\n"
          ],
          "name": "stdout"
        }
      ]
    },
    {
      "cell_type": "code",
      "metadata": {
        "id": "9PqErsIoCLeg",
        "colab_type": "code",
        "colab": {}
      },
      "source": [
        "new_float_tensor = torch.FloatTensor([0, 1, 2, 3, 4])"
      ],
      "execution_count": null,
      "outputs": []
    },
    {
      "cell_type": "code",
      "metadata": {
        "id": "3oSNi-kwDKM0",
        "colab_type": "code",
        "colab": {
          "base_uri": "https://localhost:8080/",
          "height": 52
        },
        "outputId": "a9afe642-53e8-4b19-ef02-61d8fe846e36"
      },
      "source": [
        "# Another method to convert the integer list to float tensor:\n",
        "old_int_tensor = torch.tensor([1, 2, 3, 4])\n",
        "new_float_tensor = old_int_tensor.type(torch.FloatTensor)\n",
        "print('The type of the new float tensor', new_float_tensor.type())\n",
        "new_float_tensor"
      ],
      "execution_count": null,
      "outputs": [
        {
          "output_type": "stream",
          "text": [
            "The type of the new float tensor torch.FloatTensor\n"
          ],
          "name": "stdout"
        },
        {
          "output_type": "execute_result",
          "data": {
            "text/plain": [
              "tensor([1., 2., 3., 4.])"
            ]
          },
          "metadata": {
            "tags": []
          },
          "execution_count": 15
        }
      ]
    },
    {
      "cell_type": "markdown",
      "metadata": {
        "id": "sSp_XyzBEn2k",
        "colab_type": "text"
      },
      "source": [
        "The tensor_obj.size() helps you to find out the size of the tensor_obj. The tensor_obj.ndimension() shows the dimension of the tensor object."
      ]
    },
    {
      "cell_type": "code",
      "metadata": {
        "id": "W-MVzIELEYzI",
        "colab_type": "code",
        "colab": {
          "base_uri": "https://localhost:8080/",
          "height": 52
        },
        "outputId": "5f8d99bf-6da8-455f-cdce-4fd55211cf53"
      },
      "source": [
        "print('The size of the new_float_tensor==> ', new_float_tensor.size())\n",
        "print('The number of dimensions of the new_float_tensors==>',new_float_tensor.ndimension(),'-Dimensional Tensor(Vector)')\n"
      ],
      "execution_count": null,
      "outputs": [
        {
          "output_type": "stream",
          "text": [
            "The size of the new_float_tensor==>  torch.Size([4])\n",
            "The number of dimensions of the new_float_tensors==> 1 -Dimensional Tensor(Vector)\n"
          ],
          "name": "stdout"
        }
      ]
    },
    {
      "cell_type": "markdown",
      "metadata": {
        "id": "Km-o9riCMlMS",
        "colab_type": "text"
      },
      "source": [
        "The tensor_obj.view(row, column) is used for reshaping a tensor object.\n",
        "\n",
        "What if you have a tensor object with torch.Size([5]) as a new_float_tensor as shown in the previous example?\n",
        "After you execute new_float_tensor.view(5, 1), the size of new_float_tensor will be torch.Size([5, 1]).\n",
        "This means that the tensor object new_float_tensor has been reshaped from a one-dimensional tensor object with 5 elements to a two-dimensional tensor object with 5 rows and 1 column."
      ]
    },
    {
      "cell_type": "code",
      "metadata": {
        "id": "N83kLr45FOTz",
        "colab_type": "code",
        "colab": {
          "base_uri": "https://localhost:8080/",
          "height": 105
        },
        "outputId": "b03c87ae-05b3-4d7a-f847-732461f333b5"
      },
      "source": [
        "# Introduce the tensor_obj.view(rows, columns) method:\n",
        "twoD_float_tensor = new_float_tensor.view(4,1)\n",
        "print('Original size: ', new_float_tensor)\n",
        "print('Size after view method ', twoD_float_tensor)"
      ],
      "execution_count": null,
      "outputs": [
        {
          "output_type": "stream",
          "text": [
            "Original size:  tensor([1., 2., 3., 4.])\n",
            "Size after view method  tensor([[1.],\n",
            "        [2.],\n",
            "        [3.],\n",
            "        [4.]])\n"
          ],
          "name": "stdout"
        }
      ]
    },
    {
      "cell_type": "code",
      "metadata": {
        "id": "m_J3MzM5NTqb",
        "colab_type": "code",
        "colab": {
          "base_uri": "https://localhost:8080/",
          "height": 87
        },
        "outputId": "e2295215-740a-436f-99b9-bbda7f2db4a1"
      },
      "source": [
        "twoD_float_tensor"
      ],
      "execution_count": null,
      "outputs": [
        {
          "output_type": "execute_result",
          "data": {
            "text/plain": [
              "tensor([[1.],\n",
              "        [2.],\n",
              "        [3.],\n",
              "        [4.]])"
            ]
          },
          "metadata": {
            "tags": []
          },
          "execution_count": 18
        }
      ]
    },
    {
      "cell_type": "code",
      "metadata": {
        "id": "htLM-GlLONqY",
        "colab_type": "code",
        "colab": {
          "base_uri": "https://localhost:8080/",
          "height": 34
        },
        "outputId": "fcac40f2-7e32-4f18-e344-57dac91c8edc"
      },
      "source": [
        "twoD_float_tensor.ndimension()"
      ],
      "execution_count": null,
      "outputs": [
        {
          "output_type": "execute_result",
          "data": {
            "text/plain": [
              "2"
            ]
          },
          "metadata": {
            "tags": []
          },
          "execution_count": 19
        }
      ]
    },
    {
      "cell_type": "code",
      "metadata": {
        "id": "B3mahfK_OR8R",
        "colab_type": "code",
        "colab": {
          "base_uri": "https://localhost:8080/",
          "height": 105
        },
        "outputId": "49274a8f-af4e-45f4-95e7-6f065b45f599"
      },
      "source": [
        "# Introduce the use of -1 in tensor_obj.view(rows, columns)method\n",
        "twoD_float_tensor = new_float_tensor.view(-1, 1)\n",
        "print('Original size: ', new_float_tensor)\n",
        "print('Size after view method ', twoD_float_tensor)"
      ],
      "execution_count": null,
      "outputs": [
        {
          "output_type": "stream",
          "text": [
            "Original size:  tensor([1., 2., 3., 4.])\n",
            "Size after view method  tensor([[1.],\n",
            "        [2.],\n",
            "        [3.],\n",
            "        [4.]])\n"
          ],
          "name": "stdout"
        }
      ]
    },
    {
      "cell_type": "code",
      "metadata": {
        "id": "zhksLT39Ow_8",
        "colab_type": "code",
        "colab": {
          "base_uri": "https://localhost:8080/",
          "height": 87
        },
        "outputId": "36963023-2b24-46b5-ac93-b9a9b66de56a"
      },
      "source": [
        "x = torch.tensor([2, 4, 5, 66])\n",
        "p = x.view(-1, 1)\n",
        "p"
      ],
      "execution_count": null,
      "outputs": [
        {
          "output_type": "execute_result",
          "data": {
            "text/plain": [
              "tensor([[ 2],\n",
              "        [ 4],\n",
              "        [ 5],\n",
              "        [66]])"
            ]
          },
          "metadata": {
            "tags": []
          },
          "execution_count": 21
        }
      ]
    },
    {
      "cell_type": "code",
      "metadata": {
        "id": "rq-vabANO8NN",
        "colab_type": "code",
        "colab": {
          "base_uri": "https://localhost:8080/",
          "height": 35
        },
        "outputId": "fa23b6ca-7749-4af9-c498-00d83c21e2eb"
      },
      "source": [
        "p.type()"
      ],
      "execution_count": null,
      "outputs": [
        {
          "output_type": "execute_result",
          "data": {
            "application/vnd.google.colaboratory.intrinsic+json": {
              "type": "string"
            },
            "text/plain": [
              "'torch.LongTensor'"
            ]
          },
          "metadata": {
            "tags": []
          },
          "execution_count": 22
        }
      ]
    },
    {
      "cell_type": "markdown",
      "metadata": {
        "id": "C-0ULWaYPUmi",
        "colab_type": "text"
      },
      "source": [
        "**Convert Numpy array to Tensors:**"
      ]
    },
    {
      "cell_type": "code",
      "metadata": {
        "id": "gV-Col0vPCSn",
        "colab_type": "code",
        "colab": {
          "base_uri": "https://localhost:8080/",
          "height": 34
        },
        "outputId": "30fca036-6bca-4555-da2b-3fa246c1164f"
      },
      "source": [
        "numpy_array = np.array([0.0, 1.0, 2.0, 3.0, 4.0])\n",
        "new_tensor = torch.from_numpy(numpy_array)\n",
        "new_tensor "
      ],
      "execution_count": null,
      "outputs": [
        {
          "output_type": "execute_result",
          "data": {
            "text/plain": [
              "tensor([0., 1., 2., 3., 4.], dtype=torch.float64)"
            ]
          },
          "metadata": {
            "tags": []
          },
          "execution_count": 23
        }
      ]
    },
    {
      "cell_type": "code",
      "metadata": {
        "id": "8YP5pbhgkL9g",
        "colab_type": "code",
        "colab": {
          "base_uri": "https://localhost:8080/",
          "height": 52
        },
        "outputId": "bd04a9ab-ebb7-4af2-b1cc-4df96a5e9e39"
      },
      "source": [
        "print('The type of new_tensor object ', new_tensor.type())\n",
        "print('The dtype of new_tensor object ', new_tensor.dtype)\n"
      ],
      "execution_count": null,
      "outputs": [
        {
          "output_type": "stream",
          "text": [
            "The type of new_tensor object  torch.DoubleTensor\n",
            "The dtype of new_tensor object  torch.float64\n"
          ],
          "name": "stdout"
        }
      ]
    },
    {
      "cell_type": "markdown",
      "metadata": {
        "id": "JWaXg-qTk3KW",
        "colab_type": "text"
      },
      "source": [
        "**Convert Tensors to numpy arrays:**"
      ]
    },
    {
      "cell_type": "code",
      "metadata": {
        "id": "VZV4Te3gki0K",
        "colab_type": "code",
        "colab": {
          "base_uri": "https://localhost:8080/",
          "height": 34
        },
        "outputId": "96abb329-17f8-4e2a-a20f-8e64b9556615"
      },
      "source": [
        "back_to_numpy = new_tensor.numpy()\n",
        "back_to_numpy "
      ],
      "execution_count": null,
      "outputs": [
        {
          "output_type": "execute_result",
          "data": {
            "text/plain": [
              "array([0., 1., 2., 3., 4.])"
            ]
          },
          "metadata": {
            "tags": []
          },
          "execution_count": 25
        }
      ]
    },
    {
      "cell_type": "code",
      "metadata": {
        "id": "a6tazTNplRCu",
        "colab_type": "code",
        "colab": {
          "base_uri": "https://localhost:8080/",
          "height": 34
        },
        "outputId": "a17e3021-2fe3-4302-81b3-4c6eab40d181"
      },
      "source": [
        "print('The dtype of back_to _numpy :', back_to_numpy.dtype)"
      ],
      "execution_count": null,
      "outputs": [
        {
          "output_type": "stream",
          "text": [
            "The dtype of back_to _numpy : float64\n"
          ],
          "name": "stdout"
        }
      ]
    },
    {
      "cell_type": "markdown",
      "metadata": {
        "id": "2uN5QGkLl6eh",
        "colab_type": "text"
      },
      "source": [
        "back_to_numpy and new_tensor still point to numpy_array. As a result if we change numpy_array both back_to_numpy and new_tensor will change. For example if we set all the elements in numpy_array to zeros, back_to_numpy and  new_tensor will follow suit.\n"
      ]
    },
    {
      "cell_type": "code",
      "metadata": {
        "id": "dT0wZ5O8ltTt",
        "colab_type": "code",
        "colab": {
          "base_uri": "https://localhost:8080/",
          "height": 52
        },
        "outputId": "4de803a5-c374-4495-9d42-87ecf259aec4"
      },
      "source": [
        "# set all elements in numpy array to zero: \n",
        "numpy_array[:] = 0\n",
        "print('The new_tensor points to numpy_array : ', new_tensor)\n",
        "print('The back_to_numpy array points to the tensor : ' ,back_to_numpy)"
      ],
      "execution_count": null,
      "outputs": [
        {
          "output_type": "stream",
          "text": [
            "The new_tensor points to numpy_array :  tensor([0., 0., 0., 0., 0.], dtype=torch.float64)\n",
            "The back_to_numpy array points to the tensor :  [0. 0. 0. 0. 0.]\n"
          ],
          "name": "stdout"
        }
      ]
    },
    {
      "cell_type": "markdown",
      "metadata": {
        "id": "yI2IADsAqW02",
        "colab_type": "text"
      },
      "source": [
        "**Convert pandas_series to Tensors:**"
      ]
    },
    {
      "cell_type": "markdown",
      "metadata": {
        "id": "ZxGXxXPbqgRc",
        "colab_type": "text"
      },
      "source": [
        "Pandas Series can also be converted by using the numpy array that is stored in pandas_series.values. Note that pandas_series can be any pandas_series object."
      ]
    },
    {
      "cell_type": "code",
      "metadata": {
        "id": "RGUEdsFvmiC4",
        "colab_type": "code",
        "colab": {
          "base_uri": "https://localhost:8080/",
          "height": 34
        },
        "outputId": "04987415-6358-4ab7-8bbe-34d625363ec1"
      },
      "source": [
        "pandas_series = pd.Series([0.1, 2, 0.3, 10.1])\n",
        "new_tensor = torch.from_numpy(pandas_series.values)\n",
        "new_tensor"
      ],
      "execution_count": 4,
      "outputs": [
        {
          "output_type": "execute_result",
          "data": {
            "text/plain": [
              "tensor([ 0.1000,  2.0000,  0.3000, 10.1000], dtype=torch.float64)"
            ]
          },
          "metadata": {
            "tags": []
          },
          "execution_count": 4
        }
      ]
    },
    {
      "cell_type": "code",
      "metadata": {
        "id": "8yIZlmxBq6u8",
        "colab_type": "code",
        "colab": {
          "base_uri": "https://localhost:8080/",
          "height": 52
        },
        "outputId": "1a4ac00a-7da9-4269-ee32-f323e3314389"
      },
      "source": [
        "print('The dtype of the new_tensor : ', new_tensor.dtype)\n",
        "print('The type of the new_tensor : ', new_tensor.type())"
      ],
      "execution_count": 5,
      "outputs": [
        {
          "output_type": "stream",
          "text": [
            "The dtype of the new_tensor :  torch.float64\n",
            "The type of the new_tensor :  torch.DoubleTensor\n"
          ],
          "name": "stdout"
        }
      ]
    },
    {
      "cell_type": "markdown",
      "metadata": {
        "id": "0dOurMHTrgP3",
        "colab_type": "text"
      },
      "source": [
        "**Indexing & Slicing:**"
      ]
    },
    {
      "cell_type": "code",
      "metadata": {
        "id": "9aJbBU0yrTFS",
        "colab_type": "code",
        "colab": {
          "base_uri": "https://localhost:8080/",
          "height": 87
        },
        "outputId": "29adf8e5-be00-4d46-f005-be98340a8399"
      },
      "source": [
        "index_tensor = torch.tensor([55, 1, 3, 54, 11])\n",
        "print('The value of index 0 : ', index_tensor[0])\n",
        "print('The value of index 1 : ', index_tensor[1])\n",
        "print('The value of index 2 : ', index_tensor[2])\n",
        "print('The value of index 3 : ', index_tensor[3])\n"
      ],
      "execution_count": 6,
      "outputs": [
        {
          "output_type": "stream",
          "text": [
            "The value of index 0 :  tensor(0)\n",
            "The value of index 1 :  tensor(1)\n",
            "The value of index 2 :  tensor(3)\n",
            "The value of index 3 :  tensor(54)\n"
          ],
          "name": "stdout"
        }
      ]
    },
    {
      "cell_type": "code",
      "metadata": {
        "id": "NEbO9EuRsDgT",
        "colab_type": "code",
        "colab": {
          "base_uri": "https://localhost:8080/",
          "height": 52
        },
        "outputId": "72655abb-5017-43a9-bdc9-c843b0590d56"
      },
      "source": [
        "# Change the value of 0 index to 200 : \n",
        "print('The inital value on index 0 : ', index_tensor[0])\n",
        "index_tensor[0] = 200\n",
        "print('Modified Tensor is : ', index_tensor)"
      ],
      "execution_count": 7,
      "outputs": [
        {
          "output_type": "stream",
          "text": [
            "The inital value on index 0 :  tensor(0)\n",
            "Modified Tensor is :  tensor([200,   1,   3,  54,  11])\n"
          ],
          "name": "stdout"
        }
      ]
    },
    {
      "cell_type": "markdown",
      "metadata": {
        "id": "3_zLdo5VtCC8",
        "colab_type": "text"
      },
      "source": [
        "**Tensors Functions:**"
      ]
    },
    {
      "cell_type": "code",
      "metadata": {
        "id": "v2BGeFbXssRz",
        "colab_type": "code",
        "colab": {
          "base_uri": "https://localhost:8080/",
          "height": 34
        },
        "outputId": "eb2544eb-7f69-4f9d-9f96-292f21f251fe"
      },
      "source": [
        "# Mean & standard Devition : \n",
        "x = torch.tensor([1.0 , -1.0, 1, -1])\n",
        "x "
      ],
      "execution_count": 8,
      "outputs": [
        {
          "output_type": "execute_result",
          "data": {
            "text/plain": [
              "tensor([ 1., -1.,  1., -1.])"
            ]
          },
          "metadata": {
            "tags": []
          },
          "execution_count": 8
        }
      ]
    },
    {
      "cell_type": "code",
      "metadata": {
        "id": "dISbfioj0WjG",
        "colab_type": "code",
        "colab": {
          "base_uri": "https://localhost:8080/",
          "height": 34
        },
        "outputId": "0b4ea198-04fe-440b-bde1-0482fd6c92e6"
      },
      "source": [
        "mean = x.mean()\n",
        "print('The mean of x : ', mean)"
      ],
      "execution_count": 9,
      "outputs": [
        {
          "output_type": "stream",
          "text": [
            "The mean of x :  tensor(0.)\n"
          ],
          "name": "stdout"
        }
      ]
    },
    {
      "cell_type": "code",
      "metadata": {
        "id": "Y3eAuIIy0jCg",
        "colab_type": "code",
        "colab": {
          "base_uri": "https://localhost:8080/",
          "height": 34
        },
        "outputId": "9e1edbbf-f6e4-4e52-f33a-fd57992baea5"
      },
      "source": [
        "std = x.std()\n",
        "print('The standard deviation of x : ', std)"
      ],
      "execution_count": 10,
      "outputs": [
        {
          "output_type": "stream",
          "text": [
            "The standard deviation of x :  tensor(1.1547)\n"
          ],
          "name": "stdout"
        }
      ]
    },
    {
      "cell_type": "code",
      "metadata": {
        "id": "9XvuTDGX0xcI",
        "colab_type": "code",
        "colab": {
          "base_uri": "https://localhost:8080/",
          "height": 34
        },
        "outputId": "1b99db4f-a0cf-4308-c996-daac4053be94"
      },
      "source": [
        "max_min_tensor = torch.tensor([1, 2, 3, 4, 5])\n",
        "max_min_tensor "
      ],
      "execution_count": 11,
      "outputs": [
        {
          "output_type": "execute_result",
          "data": {
            "text/plain": [
              "tensor([1, 2, 3, 4, 5])"
            ]
          },
          "metadata": {
            "tags": []
          },
          "execution_count": 11
        }
      ]
    },
    {
      "cell_type": "code",
      "metadata": {
        "id": "zxYDSia31ZrX",
        "colab_type": "code",
        "colab": {
          "base_uri": "https://localhost:8080/",
          "height": 34
        },
        "outputId": "8274eb04-dc4b-4fa9-ae58-7f7a009f4f40"
      },
      "source": [
        "# find the max value : \n",
        "max_val = max_min_tensor.max()\n",
        "print('The maximum number in the tensor is : ', max_val)\n"
      ],
      "execution_count": 12,
      "outputs": [
        {
          "output_type": "stream",
          "text": [
            "The maximum number in the tensor is :  tensor(5)\n"
          ],
          "name": "stdout"
        }
      ]
    },
    {
      "cell_type": "code",
      "metadata": {
        "id": "6oTx2uCA1rvn",
        "colab_type": "code",
        "colab": {
          "base_uri": "https://localhost:8080/",
          "height": 34
        },
        "outputId": "2b23dd27-8381-4161-f269-f9c9be59b3be"
      },
      "source": [
        "# find the min value : \n",
        "min_val = max_min_tensor.min()\n",
        "print('The minimum number in the tensor is : ', min_val)\n"
      ],
      "execution_count": 13,
      "outputs": [
        {
          "output_type": "stream",
          "text": [
            "The minimum number in the tensor is :  tensor(1)\n"
          ],
          "name": "stdout"
        }
      ]
    },
    {
      "cell_type": "markdown",
      "metadata": {
        "id": "MWtdlDal2Ciz",
        "colab_type": "text"
      },
      "source": [
        "**Create Tensor by torch.linespace():**"
      ]
    },
    {
      "cell_type": "code",
      "metadata": {
        "id": "tpvfGaoW19RC",
        "colab_type": "code",
        "colab": {}
      },
      "source": [
        ""
      ],
      "execution_count": null,
      "outputs": []
    }
  ]
}