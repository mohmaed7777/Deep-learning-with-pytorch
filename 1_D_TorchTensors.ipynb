{
  "nbformat": 4,
  "nbformat_minor": 0,
  "metadata": {
    "colab": {
      "name": "1-D TorchTensors.ipynb",
      "provenance": [],
      "authorship_tag": "ABX9TyPqf7fSPuazj78PtReIKoyq",
      "include_colab_link": true
    },
    "kernelspec": {
      "name": "python3",
      "display_name": "Python 3"
    }
  },
  "cells": [
    {
      "cell_type": "markdown",
      "metadata": {
        "id": "view-in-github",
        "colab_type": "text"
      },
      "source": [
        "<a href=\"https://colab.research.google.com/github/mohmaed7777/Deep-learning-with-pytorch/blob/master/1_D_TorchTensors.ipynb\" target=\"_parent\"><img src=\"https://colab.research.google.com/assets/colab-badge.svg\" alt=\"Open In Colab\"/></a>"
      ]
    },
    {
      "cell_type": "markdown",
      "metadata": {
        "id": "L0elEFPSXIlY",
        "colab_type": "text"
      },
      "source": [
        "## **Preparation**\n",
        "\n",
        "Import the following libraries that we wil use for this lab:"
      ]
    },
    {
      "cell_type": "code",
      "metadata": {
        "id": "DkrhKGy2T4_U",
        "colab_type": "code",
        "colab": {}
      },
      "source": [
        "import torch \n",
        "import numpy as np\n",
        "import pandas as pd \n",
        "import matplotlib.pyplot as plt\n",
        "%matplotlib inline "
      ],
      "execution_count": 3,
      "outputs": []
    },
    {
      "cell_type": "code",
      "metadata": {
        "id": "ExU1ARubT9KJ",
        "colab_type": "code",
        "colab": {
          "base_uri": "https://localhost:8080/",
          "height": 34
        },
        "outputId": "3b7b9a30-2399-4011-9b63-eaeb2ad91cf9"
      },
      "source": [
        "print(torch.__version__)"
      ],
      "execution_count": 2,
      "outputs": [
        {
          "output_type": "stream",
          "text": [
            "1.5.1+cu101\n"
          ],
          "name": "stdout"
        }
      ]
    },
    {
      "cell_type": "markdown",
      "metadata": {
        "id": "HBblA_rmXxrX",
        "colab_type": "text"
      },
      "source": [
        "This is the function for plotting diagrams. You will use this function to plot the vectors in Coordinate system."
      ]
    },
    {
      "cell_type": "code",
      "metadata": {
        "id": "mI77cb2wUC2C",
        "colab_type": "code",
        "colab": {}
      },
      "source": [
        "# Plot vecotrs, please keep the parameters in the same length\n",
        "# @param: Vectors = [{\"vector\": vector variable, \"name\": name of vector, \"color\": color of the vector on diagram}]\n",
        "    \n",
        "def plotVec(vectors):\n",
        "    ax = plt.axes()\n",
        "    \n",
        "    # For loop to draw the vectors\n",
        "    for vec in vectors:\n",
        "        ax.arrow(0, 0, *vec[\"vector\"], head_width = 0.05,color = vec[\"color\"], head_length = 0.1)\n",
        "        plt.text(*(vec[\"vector\"] + 0.1), vec[\"name\"])\n",
        "    \n",
        "    plt.ylim(-2,2)\n",
        "    plt.xlim(-2,2)"
      ],
      "execution_count": 4,
      "outputs": []
    },
    {
      "cell_type": "markdown",
      "metadata": {
        "id": "1RYkEz0mX79r",
        "colab_type": "text"
      },
      "source": [
        "# **Types and shapes:**"
      ]
    },
    {
      "cell_type": "code",
      "metadata": {
        "id": "rzaK32pTX58Z",
        "colab_type": "code",
        "colab": {
          "base_uri": "https://localhost:8080/",
          "height": 34
        },
        "outputId": "d008b499-bfe2-44c7-ba49-b6cfae7ee13a"
      },
      "source": [
        "# convert an integer of python lists with length 5 to \n",
        "# a pytorch tensors as follows : \n",
        "a = [1, 2, 3, 4, 5]\n",
        "ints_to_tensors = torch.tensor(a)\n",
        "ints_to_tensors\n"
      ],
      "execution_count": 5,
      "outputs": [
        {
          "output_type": "execute_result",
          "data": {
            "text/plain": [
              "tensor([1, 2, 3, 4, 5])"
            ]
          },
          "metadata": {
            "tags": []
          },
          "execution_count": 5
        }
      ]
    },
    {
      "cell_type": "code",
      "metadata": {
        "id": "ZKrhss4AYvSD",
        "colab_type": "code",
        "colab": {
          "base_uri": "https://localhost:8080/",
          "height": 52
        },
        "outputId": "3f7ee6dc-8f10-437c-eaf4-f8acd85794cb"
      },
      "source": [
        "print('The dtype of tensor object after converting it to torch tensor: ',ints_to_tensors.dtype)\n",
        "print('The type of tensor object after converting it to torch tensor: ', ints_to_tensors.type())"
      ],
      "execution_count": 6,
      "outputs": [
        {
          "output_type": "stream",
          "text": [
            "The dtype of tensor object after converting it to torch tensor:  torch.int64\n",
            "The type of tensor object after converting it to torch tensor:  torch.LongTensor\n"
          ],
          "name": "stdout"
        }
      ]
    },
    {
      "cell_type": "code",
      "metadata": {
        "id": "AEHJmYUmZnGE",
        "colab_type": "code",
        "colab": {}
      },
      "source": [
        ""
      ],
      "execution_count": null,
      "outputs": []
    }
  ]
}