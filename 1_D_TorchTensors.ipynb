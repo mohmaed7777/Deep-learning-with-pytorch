{
  "nbformat": 4,
  "nbformat_minor": 0,
  "metadata": {
    "colab": {
      "name": "1-D TorchTensors.ipynb",
      "provenance": [],
      "authorship_tag": "ABX9TyMCNrUeeQZxBhcILPhdC1uc",
      "include_colab_link": true
    },
    "kernelspec": {
      "name": "python3",
      "display_name": "Python 3"
    }
  },
  "cells": [
    {
      "cell_type": "markdown",
      "metadata": {
        "id": "view-in-github",
        "colab_type": "text"
      },
      "source": [
        "<a href=\"https://colab.research.google.com/github/mohmaed7777/Deep-learning-with-pytorch/blob/master/1_D_TorchTensors.ipynb\" target=\"_parent\"><img src=\"https://colab.research.google.com/assets/colab-badge.svg\" alt=\"Open In Colab\"/></a>"
      ]
    },
    {
      "cell_type": "markdown",
      "metadata": {
        "id": "L0elEFPSXIlY",
        "colab_type": "text"
      },
      "source": [
        "## **Preparation**\n",
        "\n",
        "Import the following libraries that we wil use for this lab:"
      ]
    },
    {
      "cell_type": "code",
      "metadata": {
        "id": "DkrhKGy2T4_U",
        "colab_type": "code",
        "colab": {}
      },
      "source": [
        "import torch \n",
        "import numpy as np\n",
        "import pandas as pd \n",
        "import matplotlib.pyplot as plt\n",
        "%matplotlib inline "
      ],
      "execution_count": 2,
      "outputs": []
    },
    {
      "cell_type": "code",
      "metadata": {
        "id": "ExU1ARubT9KJ",
        "colab_type": "code",
        "colab": {
          "base_uri": "https://localhost:8080/",
          "height": 34
        },
        "outputId": "8c762e70-afbe-44b9-bc2b-db0f930676f3"
      },
      "source": [
        "print(torch.__version__)"
      ],
      "execution_count": 3,
      "outputs": [
        {
          "output_type": "stream",
          "text": [
            "1.6.0+cu101\n"
          ],
          "name": "stdout"
        }
      ]
    },
    {
      "cell_type": "markdown",
      "metadata": {
        "id": "HBblA_rmXxrX",
        "colab_type": "text"
      },
      "source": [
        "This is the function for plotting diagrams. You will use this function to plot the vectors in Coordinate system."
      ]
    },
    {
      "cell_type": "code",
      "metadata": {
        "id": "mI77cb2wUC2C",
        "colab_type": "code",
        "colab": {}
      },
      "source": [
        "# Plot vecotrs, please keep the parameters in the same length\n",
        "# @param: Vectors = [{\"vector\": vector variable, \"name\": name of vector, \"color\": color of the vector on diagram}]\n",
        "    \n",
        "def plotVec(vectors):\n",
        "    ax = plt.axes()\n",
        "    \n",
        "    # For loop to draw the vectors\n",
        "    for vec in vectors:\n",
        "        ax.arrow(0, 0, *vec[\"vector\"], head_width = 0.05,color = vec[\"color\"], head_length = 0.1)\n",
        "        plt.text(*(vec[\"vector\"] + 0.1), vec[\"name\"])\n",
        "    \n",
        "    plt.ylim(-2,2)\n",
        "    plt.xlim(-2,2)"
      ],
      "execution_count": 4,
      "outputs": []
    },
    {
      "cell_type": "markdown",
      "metadata": {
        "id": "1RYkEz0mX79r",
        "colab_type": "text"
      },
      "source": [
        "# **Types and shapes:**"
      ]
    },
    {
      "cell_type": "code",
      "metadata": {
        "id": "rzaK32pTX58Z",
        "colab_type": "code",
        "colab": {
          "base_uri": "https://localhost:8080/",
          "height": 34
        },
        "outputId": "3bc89758-1348-43be-8cdd-43a8c88ce805"
      },
      "source": [
        "# convert an integer of python lists with length 5 to \n",
        "# a pytorch tensors as follows : \n",
        "a = [1, 2, 3, 4, 5]\n",
        "ints_to_tensors = torch.tensor(a)\n",
        "ints_to_tensors\n"
      ],
      "execution_count": 5,
      "outputs": [
        {
          "output_type": "execute_result",
          "data": {
            "text/plain": [
              "tensor([1, 2, 3, 4, 5])"
            ]
          },
          "metadata": {
            "tags": []
          },
          "execution_count": 5
        }
      ]
    },
    {
      "cell_type": "code",
      "metadata": {
        "id": "ZKrhss4AYvSD",
        "colab_type": "code",
        "colab": {
          "base_uri": "https://localhost:8080/",
          "height": 52
        },
        "outputId": "18d03b80-0077-4aa2-b48d-6145c3de0c75"
      },
      "source": [
        "print('The dtype of tensor object after converting it to torch tensor: ',ints_to_tensors.dtype)\n",
        "print('The type of tensor object after converting it to torch tensor: ', ints_to_tensors.type())"
      ],
      "execution_count": 6,
      "outputs": [
        {
          "output_type": "stream",
          "text": [
            "The dtype of tensor object after converting it to torch tensor:  torch.int64\n",
            "The type of tensor object after converting it to torch tensor:  torch.LongTensor\n"
          ],
          "name": "stdout"
        }
      ]
    },
    {
      "cell_type": "code",
      "metadata": {
        "id": "AEHJmYUmZnGE",
        "colab_type": "code",
        "colab": {
          "base_uri": "https://localhost:8080/",
          "height": 34
        },
        "outputId": "7b320a6a-2f39-423b-b9e5-047472b748bf"
      },
      "source": [
        "type(ints_to_tensors)"
      ],
      "execution_count": 7,
      "outputs": [
        {
          "output_type": "execute_result",
          "data": {
            "text/plain": [
              "torch.Tensor"
            ]
          },
          "metadata": {
            "tags": []
          },
          "execution_count": 7
        }
      ]
    },
    {
      "cell_type": "code",
      "metadata": {
        "id": "xvRzBbrY-p3c",
        "colab_type": "code",
        "colab": {
          "base_uri": "https://localhost:8080/",
          "height": 34
        },
        "outputId": "ad6392d5-0444-4baa-8303-ebc554f5a88b"
      },
      "source": [
        "# convert a float list with length 5 to a tensor :\n",
        "float_to_tensor = torch.tensor([0.0, 1.0,2.0, 3.0, 4.0])\n",
        "float_to_tensor"
      ],
      "execution_count": 8,
      "outputs": [
        {
          "output_type": "execute_result",
          "data": {
            "text/plain": [
              "tensor([0., 1., 2., 3., 4.])"
            ]
          },
          "metadata": {
            "tags": []
          },
          "execution_count": 8
        }
      ]
    },
    {
      "cell_type": "code",
      "metadata": {
        "id": "IbsTaI4X_Kms",
        "colab_type": "code",
        "colab": {
          "base_uri": "https://localhost:8080/",
          "height": 52
        },
        "outputId": "32bbd53b-1f56-400e-b956-ba166369ea27"
      },
      "source": [
        "print('The dtype of tensor object after converting it to tensors==> ',float_to_tensor.dtype)\n",
        "print('The type of tensor after converting it to a tensor==> ',float_to_tensor.type())"
      ],
      "execution_count": 9,
      "outputs": [
        {
          "output_type": "stream",
          "text": [
            "The dtype of tensor object after converting it to tensors==>  torch.float32\n",
            "The type of tensor after converting it to a tensor==>  torch.FloatTensor\n"
          ],
          "name": "stdout"
        }
      ]
    },
    {
      "cell_type": "code",
      "metadata": {
        "id": "CG-RZfOz_UQ-",
        "colab_type": "code",
        "colab": {
          "base_uri": "https://localhost:8080/",
          "height": 34
        },
        "outputId": "36668a62-29f9-4238-fa43-c02d9859de55"
      },
      "source": [
        "# Convert a float python list to a float tensor : \n",
        "list_of_floats = [0.0, 1.0, 2.0, 3.0, 4.0]\n",
        "float_int_tensors = torch.tensor(list_of_floats, dtype=torch.int64)\n",
        "float_int_tensors"
      ],
      "execution_count": 10,
      "outputs": [
        {
          "output_type": "execute_result",
          "data": {
            "text/plain": [
              "tensor([0, 1, 2, 3, 4])"
            ]
          },
          "metadata": {
            "tags": []
          },
          "execution_count": 10
        }
      ]
    },
    {
      "cell_type": "code",
      "metadata": {
        "id": "Dpugf2k8BN9d",
        "colab_type": "code",
        "colab": {
          "base_uri": "https://localhost:8080/",
          "height": 35
        },
        "outputId": "9eec2185-aebf-48c1-a443-08ffa8e8beb3"
      },
      "source": [
        "float_int_tensors.type()"
      ],
      "execution_count": 11,
      "outputs": [
        {
          "output_type": "execute_result",
          "data": {
            "application/vnd.google.colaboratory.intrinsic+json": {
              "type": "string"
            },
            "text/plain": [
              "'torch.LongTensor'"
            ]
          },
          "metadata": {
            "tags": []
          },
          "execution_count": 11
        }
      ]
    },
    {
      "cell_type": "code",
      "metadata": {
        "id": "cMONlyriBSqh",
        "colab_type": "code",
        "colab": {
          "base_uri": "https://localhost:8080/",
          "height": 34
        },
        "outputId": "53f55381-054c-440b-e1d6-370e50998b2a"
      },
      "source": [
        "float_int_tensors.dtype"
      ],
      "execution_count": 12,
      "outputs": [
        {
          "output_type": "execute_result",
          "data": {
            "text/plain": [
              "torch.int64"
            ]
          },
          "metadata": {
            "tags": []
          },
          "execution_count": 12
        }
      ]
    },
    {
      "cell_type": "markdown",
      "metadata": {
        "id": "SzKAHwYJBtXg",
        "colab_type": "text"
      },
      "source": [
        "From the previous examples, you see that torch.tensor() converts the list to the tensor type, which is similar to the original list type. However, what if you want to convert the list to a certain tensor type? torch contains the methods required to do this conversion. The following code converts an integer list to float tensor:"
      ]
    },
    {
      "cell_type": "code",
      "metadata": {
        "id": "KgPiFAxqBjtw",
        "colab_type": "code",
        "colab": {
          "base_uri": "https://localhost:8080/",
          "height": 52
        },
        "outputId": "2c0fe1fe-17af-470e-98dd-1e5b7129e3b3"
      },
      "source": [
        "# Convert an integer list with length 5 to a float tensors:\n",
        "new_float_tensor = torch.FloatTensor([1, 2, 3, 4, 5])\n",
        "print('The type of the new tensor==> ',new_float_tensor.type())\n",
        "print('The dtype of the new tensor==> ',new_float_tensor.dtype)"
      ],
      "execution_count": 13,
      "outputs": [
        {
          "output_type": "stream",
          "text": [
            "The type of the new tensor==>  torch.FloatTensor\n",
            "The dtype of the new tensor==>  torch.float32\n"
          ],
          "name": "stdout"
        }
      ]
    },
    {
      "cell_type": "code",
      "metadata": {
        "id": "9PqErsIoCLeg",
        "colab_type": "code",
        "colab": {}
      },
      "source": [
        "new_float_tensor = torch.FloatTensor([0, 1, 2, 3, 4])"
      ],
      "execution_count": 14,
      "outputs": []
    },
    {
      "cell_type": "code",
      "metadata": {
        "id": "3oSNi-kwDKM0",
        "colab_type": "code",
        "colab": {
          "base_uri": "https://localhost:8080/",
          "height": 52
        },
        "outputId": "d291a2a9-b2da-453e-a2c5-86b2d2724bfa"
      },
      "source": [
        "# Another method to convert the integer list to float tensor:\n",
        "old_int_tensor = torch.tensor([1, 2, 3, 4])\n",
        "new_float_tensor = old_int_tensor.type(torch.FloatTensor)\n",
        "print('The type of the new float tensor', new_float_tensor.type())\n",
        "new_float_tensor"
      ],
      "execution_count": 15,
      "outputs": [
        {
          "output_type": "stream",
          "text": [
            "The type of the new float tensor torch.FloatTensor\n"
          ],
          "name": "stdout"
        },
        {
          "output_type": "execute_result",
          "data": {
            "text/plain": [
              "tensor([1., 2., 3., 4.])"
            ]
          },
          "metadata": {
            "tags": []
          },
          "execution_count": 15
        }
      ]
    },
    {
      "cell_type": "markdown",
      "metadata": {
        "id": "sSp_XyzBEn2k",
        "colab_type": "text"
      },
      "source": [
        "The tensor_obj.size() helps you to find out the size of the tensor_obj. The tensor_obj.ndimension() shows the dimension of the tensor object."
      ]
    },
    {
      "cell_type": "code",
      "metadata": {
        "id": "W-MVzIELEYzI",
        "colab_type": "code",
        "colab": {
          "base_uri": "https://localhost:8080/",
          "height": 72
        },
        "outputId": "22540c6c-3a01-4da5-8d83-96dfbb053d8e"
      },
      "source": [
        "print('The size of the new_float_tensor==> ', new_float_tensor.size())\n",
        "print('The number of dimensions of the new_float_tensors==>',new_float_tensor.ndimension(),'-Dimensional Tensor(Vector)')\n"
      ],
      "execution_count": 16,
      "outputs": [
        {
          "output_type": "stream",
          "text": [
            "The size of the new_float_tensor==>  torch.Size([4])\n",
            "The number of dimensions of the new_float_tensors==> 1 -Dimensional Tensor(Vector)\n"
          ],
          "name": "stdout"
        }
      ]
    },
    {
      "cell_type": "markdown",
      "metadata": {
        "id": "Km-o9riCMlMS",
        "colab_type": "text"
      },
      "source": [
        "The tensor_obj.view(row, column) is used for reshaping a tensor object.\n",
        "\n",
        "What if you have a tensor object with torch.Size([5]) as a new_float_tensor as shown in the previous example?\n",
        "After you execute new_float_tensor.view(5, 1), the size of new_float_tensor will be torch.Size([5, 1]).\n",
        "This means that the tensor object new_float_tensor has been reshaped from a one-dimensional tensor object with 5 elements to a two-dimensional tensor object with 5 rows and 1 column."
      ]
    },
    {
      "cell_type": "code",
      "metadata": {
        "id": "N83kLr45FOTz",
        "colab_type": "code",
        "colab": {
          "base_uri": "https://localhost:8080/",
          "height": 105
        },
        "outputId": "33103aa9-0b82-4865-d5f9-182c1671428c"
      },
      "source": [
        "# Introduce the tensor_obj.view(rows, columns) method:\n",
        "twoD_float_tensor = new_float_tensor.view(4,1)\n",
        "print('Original size: ', new_float_tensor)\n",
        "print('Size after view method ', twoD_float_tensor)"
      ],
      "execution_count": 17,
      "outputs": [
        {
          "output_type": "stream",
          "text": [
            "Original size:  tensor([1., 2., 3., 4.])\n",
            "Size after view method  tensor([[1.],\n",
            "        [2.],\n",
            "        [3.],\n",
            "        [4.]])\n"
          ],
          "name": "stdout"
        }
      ]
    },
    {
      "cell_type": "code",
      "metadata": {
        "id": "m_J3MzM5NTqb",
        "colab_type": "code",
        "colab": {
          "base_uri": "https://localhost:8080/",
          "height": 87
        },
        "outputId": "db1ae93c-0dee-4825-b255-19e171c50f14"
      },
      "source": [
        "twoD_float_tensor"
      ],
      "execution_count": 18,
      "outputs": [
        {
          "output_type": "execute_result",
          "data": {
            "text/plain": [
              "tensor([[1.],\n",
              "        [2.],\n",
              "        [3.],\n",
              "        [4.]])"
            ]
          },
          "metadata": {
            "tags": []
          },
          "execution_count": 18
        }
      ]
    },
    {
      "cell_type": "code",
      "metadata": {
        "id": "htLM-GlLONqY",
        "colab_type": "code",
        "colab": {
          "base_uri": "https://localhost:8080/",
          "height": 34
        },
        "outputId": "01b81bf4-c80a-4343-9345-aaf2689f3d38"
      },
      "source": [
        "twoD_float_tensor.ndimension()"
      ],
      "execution_count": 19,
      "outputs": [
        {
          "output_type": "execute_result",
          "data": {
            "text/plain": [
              "2"
            ]
          },
          "metadata": {
            "tags": []
          },
          "execution_count": 19
        }
      ]
    },
    {
      "cell_type": "code",
      "metadata": {
        "id": "B3mahfK_OR8R",
        "colab_type": "code",
        "colab": {
          "base_uri": "https://localhost:8080/",
          "height": 105
        },
        "outputId": "eab0a73a-2d69-49da-b7f4-0c859e1aee3a"
      },
      "source": [
        "# Introduce the use of -1 in tensor_obj.view(rows, columns)method\n",
        "twoD_float_tensor = new_float_tensor.view(-1, 1)\n",
        "print('Original size: ', new_float_tensor)\n",
        "print('Size after view method ', twoD_float_tensor)"
      ],
      "execution_count": 20,
      "outputs": [
        {
          "output_type": "stream",
          "text": [
            "Original size:  tensor([1., 2., 3., 4.])\n",
            "Size after view method  tensor([[1.],\n",
            "        [2.],\n",
            "        [3.],\n",
            "        [4.]])\n"
          ],
          "name": "stdout"
        }
      ]
    },
    {
      "cell_type": "code",
      "metadata": {
        "id": "zhksLT39Ow_8",
        "colab_type": "code",
        "colab": {
          "base_uri": "https://localhost:8080/",
          "height": 87
        },
        "outputId": "b66f2c7b-0a35-4a2d-b277-07e3078f70e2"
      },
      "source": [
        "x = torch.tensor([2, 4, 5, 66])\n",
        "p = x.view(-1, 1)\n",
        "p"
      ],
      "execution_count": 21,
      "outputs": [
        {
          "output_type": "execute_result",
          "data": {
            "text/plain": [
              "tensor([[ 2],\n",
              "        [ 4],\n",
              "        [ 5],\n",
              "        [66]])"
            ]
          },
          "metadata": {
            "tags": []
          },
          "execution_count": 21
        }
      ]
    },
    {
      "cell_type": "code",
      "metadata": {
        "id": "rq-vabANO8NN",
        "colab_type": "code",
        "colab": {
          "base_uri": "https://localhost:8080/",
          "height": 35
        },
        "outputId": "9fa623ab-c42a-480c-ff2c-d753421cf707"
      },
      "source": [
        "p.type()"
      ],
      "execution_count": 22,
      "outputs": [
        {
          "output_type": "execute_result",
          "data": {
            "application/vnd.google.colaboratory.intrinsic+json": {
              "type": "string"
            },
            "text/plain": [
              "'torch.LongTensor'"
            ]
          },
          "metadata": {
            "tags": []
          },
          "execution_count": 22
        }
      ]
    },
    {
      "cell_type": "markdown",
      "metadata": {
        "id": "C-0ULWaYPUmi",
        "colab_type": "text"
      },
      "source": [
        "**Convert Numpy array to Tensors:**"
      ]
    },
    {
      "cell_type": "code",
      "metadata": {
        "id": "gV-Col0vPCSn",
        "colab_type": "code",
        "colab": {
          "base_uri": "https://localhost:8080/",
          "height": 34
        },
        "outputId": "2c29dce0-3834-4ce4-c55f-030c0ac9fb01"
      },
      "source": [
        "numpy_array = np.array([0.0, 1.0, 2.0, 3.0, 4.0])\n",
        "new_tensor = torch.from_numpy(numpy_array)\n",
        "new_tensor "
      ],
      "execution_count": 23,
      "outputs": [
        {
          "output_type": "execute_result",
          "data": {
            "text/plain": [
              "tensor([0., 1., 2., 3., 4.], dtype=torch.float64)"
            ]
          },
          "metadata": {
            "tags": []
          },
          "execution_count": 23
        }
      ]
    },
    {
      "cell_type": "code",
      "metadata": {
        "id": "8YP5pbhgkL9g",
        "colab_type": "code",
        "colab": {
          "base_uri": "https://localhost:8080/",
          "height": 52
        },
        "outputId": "4845167a-86c7-4137-d75b-b7baa0fff9f4"
      },
      "source": [
        "print('The type of new_tensor object ', new_tensor.type())\n",
        "print('The dtype of new_tensor object ', new_tensor.dtype)\n"
      ],
      "execution_count": 24,
      "outputs": [
        {
          "output_type": "stream",
          "text": [
            "The type of new_tensor object  torch.DoubleTensor\n",
            "The dtype of new_tensor object  torch.float64\n"
          ],
          "name": "stdout"
        }
      ]
    },
    {
      "cell_type": "markdown",
      "metadata": {
        "id": "JWaXg-qTk3KW",
        "colab_type": "text"
      },
      "source": [
        "**Convert Tensors to numpy arrays:**"
      ]
    },
    {
      "cell_type": "code",
      "metadata": {
        "id": "VZV4Te3gki0K",
        "colab_type": "code",
        "colab": {
          "base_uri": "https://localhost:8080/",
          "height": 34
        },
        "outputId": "263a5571-5901-4626-a100-0548942c6aba"
      },
      "source": [
        "back_to_numpy = new_tensor.numpy()\n",
        "back_to_numpy "
      ],
      "execution_count": 25,
      "outputs": [
        {
          "output_type": "execute_result",
          "data": {
            "text/plain": [
              "array([0., 1., 2., 3., 4.])"
            ]
          },
          "metadata": {
            "tags": []
          },
          "execution_count": 25
        }
      ]
    },
    {
      "cell_type": "code",
      "metadata": {
        "id": "a6tazTNplRCu",
        "colab_type": "code",
        "colab": {
          "base_uri": "https://localhost:8080/",
          "height": 34
        },
        "outputId": "4bdf5154-2d1c-4e33-f460-129593855b44"
      },
      "source": [
        "print('The dtype of back_to _numpy :', back_to_numpy.dtype)"
      ],
      "execution_count": 26,
      "outputs": [
        {
          "output_type": "stream",
          "text": [
            "The dtype of back_to _numpy : float64\n"
          ],
          "name": "stdout"
        }
      ]
    },
    {
      "cell_type": "markdown",
      "metadata": {
        "id": "2uN5QGkLl6eh",
        "colab_type": "text"
      },
      "source": [
        "back_to_numpy and new_tensor still point to numpy_array. As a result if we change numpy_array both back_to_numpy and new_tensor will change. For example if we set all the elements in numpy_array to zeros, back_to_numpy and  new_tensor will follow suit.\n"
      ]
    },
    {
      "cell_type": "code",
      "metadata": {
        "id": "dT0wZ5O8ltTt",
        "colab_type": "code",
        "colab": {
          "base_uri": "https://localhost:8080/",
          "height": 72
        },
        "outputId": "3084fa8f-faf7-499e-a41e-88e1edab1c80"
      },
      "source": [
        "# set all elements in numpy array to zero: \n",
        "numpy_array[:] = 0\n",
        "print('The new_tensor points to numpy_array : ', new_tensor)\n",
        "print('The back_to_numpy array points to the tensor : ' ,back_to_numpy)"
      ],
      "execution_count": 27,
      "outputs": [
        {
          "output_type": "stream",
          "text": [
            "The new_tensor points to numpy_array :  tensor([0., 0., 0., 0., 0.], dtype=torch.float64)\n",
            "The back_to_numpy array points to the tensor :  [0. 0. 0. 0. 0.]\n"
          ],
          "name": "stdout"
        }
      ]
    },
    {
      "cell_type": "markdown",
      "metadata": {
        "id": "yI2IADsAqW02",
        "colab_type": "text"
      },
      "source": [
        "**Convert pandas_series to Tensors:**"
      ]
    },
    {
      "cell_type": "markdown",
      "metadata": {
        "id": "ZxGXxXPbqgRc",
        "colab_type": "text"
      },
      "source": [
        "Pandas Series can also be converted by using the numpy array that is stored in pandas_series.values. Note that pandas_series can be any pandas_series object."
      ]
    },
    {
      "cell_type": "code",
      "metadata": {
        "id": "RGUEdsFvmiC4",
        "colab_type": "code",
        "colab": {
          "base_uri": "https://localhost:8080/",
          "height": 34
        },
        "outputId": "afc0b45e-5e61-42f0-8858-09489c148749"
      },
      "source": [
        "pandas_series = pd.Series([0.1, 2, 0.3, 10.1])\n",
        "new_tensor = torch.from_numpy(pandas_series.values)\n",
        "new_tensor"
      ],
      "execution_count": 28,
      "outputs": [
        {
          "output_type": "execute_result",
          "data": {
            "text/plain": [
              "tensor([ 0.1000,  2.0000,  0.3000, 10.1000], dtype=torch.float64)"
            ]
          },
          "metadata": {
            "tags": []
          },
          "execution_count": 28
        }
      ]
    },
    {
      "cell_type": "code",
      "metadata": {
        "id": "8yIZlmxBq6u8",
        "colab_type": "code",
        "colab": {
          "base_uri": "https://localhost:8080/",
          "height": 52
        },
        "outputId": "dea2887d-d9d5-4718-ff34-f9da9e421873"
      },
      "source": [
        "print('The dtype of the new_tensor : ', new_tensor.dtype)\n",
        "print('The type of the new_tensor : ', new_tensor.type())"
      ],
      "execution_count": 29,
      "outputs": [
        {
          "output_type": "stream",
          "text": [
            "The dtype of the new_tensor :  torch.float64\n",
            "The type of the new_tensor :  torch.DoubleTensor\n"
          ],
          "name": "stdout"
        }
      ]
    },
    {
      "cell_type": "markdown",
      "metadata": {
        "id": "0dOurMHTrgP3",
        "colab_type": "text"
      },
      "source": [
        "**Indexing & Slicing:**"
      ]
    },
    {
      "cell_type": "code",
      "metadata": {
        "id": "9aJbBU0yrTFS",
        "colab_type": "code",
        "colab": {
          "base_uri": "https://localhost:8080/",
          "height": 87
        },
        "outputId": "e40b26a1-7f8e-4944-e647-8a7442532990"
      },
      "source": [
        "index_tensor = torch.tensor([55, 1, 3, 54, 11])\n",
        "print('The value of index 0 : ', index_tensor[0])\n",
        "print('The value of index 1 : ', index_tensor[1])\n",
        "print('The value of index 2 : ', index_tensor[2])\n",
        "print('The value of index 3 : ', index_tensor[3])\n"
      ],
      "execution_count": 30,
      "outputs": [
        {
          "output_type": "stream",
          "text": [
            "The value of index 0 :  tensor(55)\n",
            "The value of index 1 :  tensor(1)\n",
            "The value of index 2 :  tensor(3)\n",
            "The value of index 3 :  tensor(54)\n"
          ],
          "name": "stdout"
        }
      ]
    },
    {
      "cell_type": "code",
      "metadata": {
        "id": "NEbO9EuRsDgT",
        "colab_type": "code",
        "colab": {
          "base_uri": "https://localhost:8080/",
          "height": 52
        },
        "outputId": "73144ed2-10e5-498b-bb03-309d7e2d5130"
      },
      "source": [
        "# Change the value of 0 index to 200 : \n",
        "print('The inital value on index 0 : ', index_tensor[0])\n",
        "index_tensor[0] = 200\n",
        "print('Modified Tensor is : ', index_tensor)"
      ],
      "execution_count": null,
      "outputs": [
        {
          "output_type": "stream",
          "text": [
            "The inital value on index 0 :  tensor(55)\n",
            "Modified Tensor is :  tensor([200,   1,   3,  54,  11])\n"
          ],
          "name": "stdout"
        }
      ]
    },
    {
      "cell_type": "markdown",
      "metadata": {
        "id": "3_zLdo5VtCC8",
        "colab_type": "text"
      },
      "source": [
        "**Tensors Functions:**"
      ]
    },
    {
      "cell_type": "code",
      "metadata": {
        "id": "v2BGeFbXssRz",
        "colab_type": "code",
        "colab": {
          "base_uri": "https://localhost:8080/",
          "height": 34
        },
        "outputId": "08ce8b97-a2b4-445f-9723-13ec1ca72135"
      },
      "source": [
        "# Mean & standard Devition : \n",
        "x = torch.tensor([1.0 , -1.0, 1, -1])\n",
        "x "
      ],
      "execution_count": null,
      "outputs": [
        {
          "output_type": "execute_result",
          "data": {
            "text/plain": [
              "tensor([ 1., -1.,  1., -1.])"
            ]
          },
          "metadata": {
            "tags": []
          },
          "execution_count": 34
        }
      ]
    },
    {
      "cell_type": "code",
      "metadata": {
        "id": "dISbfioj0WjG",
        "colab_type": "code",
        "colab": {
          "base_uri": "https://localhost:8080/",
          "height": 34
        },
        "outputId": "292df43d-d157-4da7-a506-e75d3bcd7ab4"
      },
      "source": [
        "mean = x.mean()\n",
        "print('The mean of x : ', mean)"
      ],
      "execution_count": null,
      "outputs": [
        {
          "output_type": "stream",
          "text": [
            "The mean of x :  tensor(0.)\n"
          ],
          "name": "stdout"
        }
      ]
    },
    {
      "cell_type": "code",
      "metadata": {
        "id": "Y3eAuIIy0jCg",
        "colab_type": "code",
        "colab": {
          "base_uri": "https://localhost:8080/",
          "height": 34
        },
        "outputId": "942b0ce0-ed47-4fc3-e9a0-500e5788c5ea"
      },
      "source": [
        "std = x.std()\n",
        "print('The standard deviation of x : ', std)"
      ],
      "execution_count": null,
      "outputs": [
        {
          "output_type": "stream",
          "text": [
            "The standard deviation of x :  tensor(1.1547)\n"
          ],
          "name": "stdout"
        }
      ]
    },
    {
      "cell_type": "code",
      "metadata": {
        "id": "9XvuTDGX0xcI",
        "colab_type": "code",
        "colab": {
          "base_uri": "https://localhost:8080/",
          "height": 34
        },
        "outputId": "2b9ced14-2686-4b05-d142-502d3eb7c95d"
      },
      "source": [
        "max_min_tensor = torch.tensor([1, 2, 3, 4, 5])\n",
        "max_min_tensor "
      ],
      "execution_count": null,
      "outputs": [
        {
          "output_type": "execute_result",
          "data": {
            "text/plain": [
              "tensor([1, 2, 3, 4, 5])"
            ]
          },
          "metadata": {
            "tags": []
          },
          "execution_count": 37
        }
      ]
    },
    {
      "cell_type": "code",
      "metadata": {
        "id": "zxYDSia31ZrX",
        "colab_type": "code",
        "colab": {
          "base_uri": "https://localhost:8080/",
          "height": 34
        },
        "outputId": "686da3d6-f01d-4f2b-c786-28a10a5a1b6c"
      },
      "source": [
        "# find the max value : \n",
        "max_val = max_min_tensor.max()\n",
        "print('The maximum number in the tensor is : ', max_val)\n"
      ],
      "execution_count": null,
      "outputs": [
        {
          "output_type": "stream",
          "text": [
            "The maximum number in the tensor is :  tensor(5)\n"
          ],
          "name": "stdout"
        }
      ]
    },
    {
      "cell_type": "code",
      "metadata": {
        "id": "6oTx2uCA1rvn",
        "colab_type": "code",
        "colab": {
          "base_uri": "https://localhost:8080/",
          "height": 34
        },
        "outputId": "bd59e2c9-ef06-4395-ae67-a642a5b0df5b"
      },
      "source": [
        "# find the min value : \n",
        "min_val = max_min_tensor.min()\n",
        "print('The minimum number in the tensor is : ', min_val)\n"
      ],
      "execution_count": null,
      "outputs": [
        {
          "output_type": "stream",
          "text": [
            "The minimum number in the tensor is :  tensor(1)\n"
          ],
          "name": "stdout"
        }
      ]
    },
    {
      "cell_type": "markdown",
      "metadata": {
        "id": "MWtdlDal2Ciz",
        "colab_type": "text"
      },
      "source": [
        "**Create Tensor by torch.linespace():**"
      ]
    },
    {
      "cell_type": "markdown",
      "metadata": {
        "id": "DNwh_0Mn8MOB",
        "colab_type": "text"
      },
      "source": [
        "A useful function for plotting mathematical functions is torch.linspace(). torch.linspace() returns evenly spaced numbers over a specified interval. You specify the starting point of the sequence and the ending point of the sequence. The parameter steps indicates the number of samples to generate. Now, you'll work with steps = 5."
      ]
    },
    {
      "cell_type": "code",
      "metadata": {
        "id": "tpvfGaoW19RC",
        "colab_type": "code",
        "colab": {
          "base_uri": "https://localhost:8080/",
          "height": 34
        },
        "outputId": "b3307c2a-b4d9-4c0b-ffbf-1a838860c021"
      },
      "source": [
        "# First try on using linespace to create tensor : \n",
        "len_5_tensor = torch.linspace(-2, 2, steps= 5)\n",
        "print('First Try on linespace',len_5_tensor)"
      ],
      "execution_count": null,
      "outputs": [
        {
          "output_type": "stream",
          "text": [
            "First Try on linespace tensor([-2., -1.,  0.,  1.,  2.])\n"
          ],
          "name": "stdout"
        }
      ]
    },
    {
      "cell_type": "code",
      "metadata": {
        "id": "T2TzIN3S8vp7",
        "colab_type": "code",
        "colab": {
          "base_uri": "https://localhost:8080/",
          "height": 52
        },
        "outputId": "46dddd66-12fd-41ba-9e4e-4199b762efb8"
      },
      "source": [
        "# Assign steps with 9 : \n",
        "len_9_tensor = torch.linspace(-2, 2, steps=9)\n",
        "print('Second Try on linespace', len_9_tensor)"
      ],
      "execution_count": null,
      "outputs": [
        {
          "output_type": "stream",
          "text": [
            "Second Try on linespace tensor([-2.0000, -1.5000, -1.0000, -0.5000,  0.0000,  0.5000,  1.0000,  1.5000,\n",
            "         2.0000])\n"
          ],
          "name": "stdout"
        }
      ]
    },
    {
      "cell_type": "markdown",
      "metadata": {
        "id": "nhDSqIme9RMo",
        "colab_type": "text"
      },
      "source": [
        "**Tensors operations:**"
      ]
    },
    {
      "cell_type": "code",
      "metadata": {
        "id": "zWNIgtmS9FWV",
        "colab_type": "code",
        "colab": {
          "base_uri": "https://localhost:8080/",
          "height": 34
        },
        "outputId": "e05b9999-9037-439d-9a59-956d235d4a11"
      },
      "source": [
        "# Addition : \n",
        "a = torch.tensor([1, 3])\n",
        "b = torch.tensor([2, 3])\n",
        "c = a + b \n",
        "c "
      ],
      "execution_count": 31,
      "outputs": [
        {
          "output_type": "execute_result",
          "data": {
            "text/plain": [
              "tensor([3, 6])"
            ]
          },
          "metadata": {
            "tags": []
          },
          "execution_count": 31
        }
      ]
    },
    {
      "cell_type": "code",
      "metadata": {
        "id": "mBbrMm-qVk2j",
        "colab_type": "code",
        "colab": {
          "base_uri": "https://localhost:8080/",
          "height": 34
        },
        "outputId": "a350f1cf-52d6-4b77-b5e7-2909ffdfc82e"
      },
      "source": [
        "a = torch.tensor([3, 6])\n",
        "b = torch.tensor([1, 2])\n",
        "c = a - b \n",
        "c "
      ],
      "execution_count": 32,
      "outputs": [
        {
          "output_type": "execute_result",
          "data": {
            "text/plain": [
              "tensor([2, 4])"
            ]
          },
          "metadata": {
            "tags": []
          },
          "execution_count": 32
        }
      ]
    },
    {
      "cell_type": "code",
      "metadata": {
        "id": "wJ8B51BdV3Nb",
        "colab_type": "code",
        "colab": {
          "base_uri": "https://localhost:8080/",
          "height": 34
        },
        "outputId": "c5cdc7b0-a629-4c54-ee82-735e851ccc15"
      },
      "source": [
        "a = torch.tensor([2, 3, 4])\n",
        "b = 10 + a \n",
        "b "
      ],
      "execution_count": 33,
      "outputs": [
        {
          "output_type": "execute_result",
          "data": {
            "text/plain": [
              "tensor([12, 13, 14])"
            ]
          },
          "metadata": {
            "tags": []
          },
          "execution_count": 33
        }
      ]
    },
    {
      "cell_type": "code",
      "metadata": {
        "id": "TgZ0tvROWIn1",
        "colab_type": "code",
        "colab": {
          "base_uri": "https://localhost:8080/",
          "height": 34
        },
        "outputId": "a2618277-5b9a-4ea0-fd44-c178c70968f4"
      },
      "source": [
        "a = torch.tensor([10, 20, 30, 40])\n",
        "b = 2 * a \n",
        "b "
      ],
      "execution_count": 34,
      "outputs": [
        {
          "output_type": "execute_result",
          "data": {
            "text/plain": [
              "tensor([20, 40, 60, 80])"
            ]
          },
          "metadata": {
            "tags": []
          },
          "execution_count": 34
        }
      ]
    },
    {
      "cell_type": "code",
      "metadata": {
        "id": "GZCVqe1IWSgI",
        "colab_type": "code",
        "colab": {
          "base_uri": "https://localhost:8080/",
          "height": 34
        },
        "outputId": "c3e0ab08-f746-4ca2-861e-7daa401833c8"
      },
      "source": [
        "a = torch.tensor([2, 4, 6, 8])\n",
        "b = torch.tensor([1, 3, 5, 7])\n",
        "c = a * b \n",
        "c "
      ],
      "execution_count": 35,
      "outputs": [
        {
          "output_type": "execute_result",
          "data": {
            "text/plain": [
              "tensor([ 2, 12, 30, 56])"
            ]
          },
          "metadata": {
            "tags": []
          },
          "execution_count": 35
        }
      ]
    },
    {
      "cell_type": "code",
      "metadata": {
        "id": "REvrX6RUWjLR",
        "colab_type": "code",
        "colab": {
          "base_uri": "https://localhost:8080/",
          "height": 34
        },
        "outputId": "5a92a5ed-6208-468c-e972-ba4941918c77"
      },
      "source": [
        "# Dot product : \n",
        "a = torch.tensor([1, 2])\n",
        "b = torch.tensor([1, 2])\n",
        "c = torch.dot(a, b)\n",
        "c "
      ],
      "execution_count": 36,
      "outputs": [
        {
          "output_type": "execute_result",
          "data": {
            "text/plain": [
              "tensor(5)"
            ]
          },
          "metadata": {
            "tags": []
          },
          "execution_count": 36
        }
      ]
    },
    {
      "cell_type": "code",
      "metadata": {
        "id": "gA_o3y5iW6iu",
        "colab_type": "code",
        "colab": {}
      },
      "source": [
        ""
      ],
      "execution_count": null,
      "outputs": []
    }
  ]
}