{
  "nbformat": 4,
  "nbformat_minor": 0,
  "metadata": {
    "colab": {
      "name": "1-D TorchTensors.ipynb",
      "provenance": [],
      "authorship_tag": "ABX9TyMoVz9rQAsORgBO0ho3iIAO",
      "include_colab_link": true
    },
    "kernelspec": {
      "name": "python3",
      "display_name": "Python 3"
    }
  },
  "cells": [
    {
      "cell_type": "markdown",
      "metadata": {
        "id": "view-in-github",
        "colab_type": "text"
      },
      "source": [
        "<a href=\"https://colab.research.google.com/github/mohmaed7777/Deep-learning-with-pytorch/blob/master/1_D_TorchTensors.ipynb\" target=\"_parent\"><img src=\"https://colab.research.google.com/assets/colab-badge.svg\" alt=\"Open In Colab\"/></a>"
      ]
    },
    {
      "cell_type": "markdown",
      "metadata": {
        "id": "L0elEFPSXIlY",
        "colab_type": "text"
      },
      "source": [
        "## **Preparation**\n",
        "\n",
        "Import the following libraries that we wil use for this lab:"
      ]
    },
    {
      "cell_type": "code",
      "metadata": {
        "id": "DkrhKGy2T4_U",
        "colab_type": "code",
        "colab": {}
      },
      "source": [
        "import torch \n",
        "import numpy as np\n",
        "import pandas as pd \n",
        "import matplotlib.pyplot as plt\n",
        "%matplotlib inline "
      ],
      "execution_count": 4,
      "outputs": []
    },
    {
      "cell_type": "code",
      "metadata": {
        "id": "ExU1ARubT9KJ",
        "colab_type": "code",
        "colab": {
          "base_uri": "https://localhost:8080/",
          "height": 34
        },
        "outputId": "b6613043-eb98-483e-bcd0-10eb4b95b369"
      },
      "source": [
        "print(torch.__version__)"
      ],
      "execution_count": 5,
      "outputs": [
        {
          "output_type": "stream",
          "text": [
            "1.6.0+cu101\n"
          ],
          "name": "stdout"
        }
      ]
    },
    {
      "cell_type": "markdown",
      "metadata": {
        "id": "HBblA_rmXxrX",
        "colab_type": "text"
      },
      "source": [
        "This is the function for plotting diagrams. You will use this function to plot the vectors in Coordinate system."
      ]
    },
    {
      "cell_type": "code",
      "metadata": {
        "id": "mI77cb2wUC2C",
        "colab_type": "code",
        "colab": {}
      },
      "source": [
        "# Plot vecotrs, please keep the parameters in the same length\n",
        "# @param: Vectors = [{\"vector\": vector variable, \"name\": name of vector, \"color\": color of the vector on diagram}]\n",
        "    \n",
        "def plotVec(vectors):\n",
        "    ax = plt.axes()\n",
        "    \n",
        "    # For loop to draw the vectors\n",
        "    for vec in vectors:\n",
        "        ax.arrow(0, 0, *vec[\"vector\"], head_width = 0.05,color = vec[\"color\"], head_length = 0.1)\n",
        "        plt.text(*(vec[\"vector\"] + 0.1), vec[\"name\"])\n",
        "    \n",
        "    plt.ylim(-2,2)\n",
        "    plt.xlim(-2,2)"
      ],
      "execution_count": 6,
      "outputs": []
    },
    {
      "cell_type": "markdown",
      "metadata": {
        "id": "1RYkEz0mX79r",
        "colab_type": "text"
      },
      "source": [
        "# **Types and shapes:**"
      ]
    },
    {
      "cell_type": "code",
      "metadata": {
        "id": "rzaK32pTX58Z",
        "colab_type": "code",
        "colab": {
          "base_uri": "https://localhost:8080/",
          "height": 34
        },
        "outputId": "bf114664-b0f8-4851-d452-a9f549e76a9f"
      },
      "source": [
        "# convert an integer of python lists with length 5 to \n",
        "# a pytorch tensors as follows : \n",
        "a = [1, 2, 3, 4, 5]\n",
        "ints_to_tensors = torch.tensor(a)\n",
        "ints_to_tensors\n"
      ],
      "execution_count": 7,
      "outputs": [
        {
          "output_type": "execute_result",
          "data": {
            "text/plain": [
              "tensor([1, 2, 3, 4, 5])"
            ]
          },
          "metadata": {
            "tags": []
          },
          "execution_count": 7
        }
      ]
    },
    {
      "cell_type": "code",
      "metadata": {
        "id": "ZKrhss4AYvSD",
        "colab_type": "code",
        "colab": {
          "base_uri": "https://localhost:8080/",
          "height": 52
        },
        "outputId": "0cac6c13-5386-4e91-b79a-121f17425970"
      },
      "source": [
        "print('The dtype of tensor object after converting it to torch tensor: ',ints_to_tensors.dtype)\n",
        "print('The type of tensor object after converting it to torch tensor: ', ints_to_tensors.type())"
      ],
      "execution_count": 8,
      "outputs": [
        {
          "output_type": "stream",
          "text": [
            "The dtype of tensor object after converting it to torch tensor:  torch.int64\n",
            "The type of tensor object after converting it to torch tensor:  torch.LongTensor\n"
          ],
          "name": "stdout"
        }
      ]
    },
    {
      "cell_type": "code",
      "metadata": {
        "id": "AEHJmYUmZnGE",
        "colab_type": "code",
        "colab": {
          "base_uri": "https://localhost:8080/",
          "height": 34
        },
        "outputId": "e88ceeec-b37c-4559-8848-2cba6351a3a1"
      },
      "source": [
        "type(ints_to_tensors)"
      ],
      "execution_count": 9,
      "outputs": [
        {
          "output_type": "execute_result",
          "data": {
            "text/plain": [
              "torch.Tensor"
            ]
          },
          "metadata": {
            "tags": []
          },
          "execution_count": 9
        }
      ]
    },
    {
      "cell_type": "code",
      "metadata": {
        "id": "xvRzBbrY-p3c",
        "colab_type": "code",
        "colab": {
          "base_uri": "https://localhost:8080/",
          "height": 34
        },
        "outputId": "5dc164f4-8a98-4b1c-d085-4304f973518a"
      },
      "source": [
        "# convert a float list with length 5 to a tensor :\n",
        "float_to_tensor = torch.tensor([0.0, 1.0,2.0, 3.0, 4.0])\n",
        "float_to_tensor"
      ],
      "execution_count": 10,
      "outputs": [
        {
          "output_type": "execute_result",
          "data": {
            "text/plain": [
              "tensor([0., 1., 2., 3., 4.])"
            ]
          },
          "metadata": {
            "tags": []
          },
          "execution_count": 10
        }
      ]
    },
    {
      "cell_type": "code",
      "metadata": {
        "id": "IbsTaI4X_Kms",
        "colab_type": "code",
        "colab": {
          "base_uri": "https://localhost:8080/",
          "height": 52
        },
        "outputId": "e529e9b1-d5d7-4ab2-a2bc-e8bfee88244a"
      },
      "source": [
        "print('The dtype of tensor object after converting it to tensors==> ',float_to_tensor.dtype)\n",
        "print('The type of tensor after converting it to a tensor==> ',float_to_tensor.type())"
      ],
      "execution_count": 11,
      "outputs": [
        {
          "output_type": "stream",
          "text": [
            "The dtype of tensor object after converting it to tensors==>  torch.float32\n",
            "The type of tensor after converting it to a tensor==>  torch.FloatTensor\n"
          ],
          "name": "stdout"
        }
      ]
    },
    {
      "cell_type": "code",
      "metadata": {
        "id": "CG-RZfOz_UQ-",
        "colab_type": "code",
        "colab": {
          "base_uri": "https://localhost:8080/",
          "height": 34
        },
        "outputId": "746c4458-8772-4d13-d0e2-cb7888b10e93"
      },
      "source": [
        "# Convert a float python list to a float tensor : \n",
        "list_of_floats = [0.0, 1.0, 2.0, 3.0, 4.0]\n",
        "float_int_tensors = torch.tensor(list_of_floats, dtype=torch.int64)\n",
        "float_int_tensors"
      ],
      "execution_count": 12,
      "outputs": [
        {
          "output_type": "execute_result",
          "data": {
            "text/plain": [
              "tensor([0, 1, 2, 3, 4])"
            ]
          },
          "metadata": {
            "tags": []
          },
          "execution_count": 12
        }
      ]
    },
    {
      "cell_type": "code",
      "metadata": {
        "id": "Dpugf2k8BN9d",
        "colab_type": "code",
        "colab": {
          "base_uri": "https://localhost:8080/",
          "height": 35
        },
        "outputId": "556e79fe-e421-4a87-8607-bad60cd89412"
      },
      "source": [
        "float_int_tensors.type()"
      ],
      "execution_count": 13,
      "outputs": [
        {
          "output_type": "execute_result",
          "data": {
            "application/vnd.google.colaboratory.intrinsic+json": {
              "type": "string"
            },
            "text/plain": [
              "'torch.LongTensor'"
            ]
          },
          "metadata": {
            "tags": []
          },
          "execution_count": 13
        }
      ]
    },
    {
      "cell_type": "code",
      "metadata": {
        "id": "cMONlyriBSqh",
        "colab_type": "code",
        "colab": {
          "base_uri": "https://localhost:8080/",
          "height": 34
        },
        "outputId": "0cab9235-8658-415e-8658-3c87889ab390"
      },
      "source": [
        "float_int_tensors.dtype"
      ],
      "execution_count": 14,
      "outputs": [
        {
          "output_type": "execute_result",
          "data": {
            "text/plain": [
              "torch.int64"
            ]
          },
          "metadata": {
            "tags": []
          },
          "execution_count": 14
        }
      ]
    },
    {
      "cell_type": "markdown",
      "metadata": {
        "id": "SzKAHwYJBtXg",
        "colab_type": "text"
      },
      "source": [
        "From the previous examples, you see that torch.tensor() converts the list to the tensor type, which is similar to the original list type. However, what if you want to convert the list to a certain tensor type? torch contains the methods required to do this conversion. The following code converts an integer list to float tensor:"
      ]
    },
    {
      "cell_type": "code",
      "metadata": {
        "id": "KgPiFAxqBjtw",
        "colab_type": "code",
        "colab": {
          "base_uri": "https://localhost:8080/",
          "height": 52
        },
        "outputId": "6d6629e1-a1a2-4c9b-bb2b-ad93cdb49b1d"
      },
      "source": [
        "# Convert an integer list with length 5 to a float tensors:\n",
        "new_float_tensor = torch.FloatTensor([1, 2, 3, 4, 5])\n",
        "print('The type of the new tensor==> ',new_float_tensor.type())\n",
        "print('The dtype of the new tensor==> ',new_float_tensor.dtype)"
      ],
      "execution_count": 15,
      "outputs": [
        {
          "output_type": "stream",
          "text": [
            "The type of the new tensor==>  torch.FloatTensor\n",
            "The dtype of the new tensor==>  torch.float32\n"
          ],
          "name": "stdout"
        }
      ]
    },
    {
      "cell_type": "code",
      "metadata": {
        "id": "9PqErsIoCLeg",
        "colab_type": "code",
        "colab": {}
      },
      "source": [
        "new_float_tensor = torch.FloatTensor([0, 1, 2, 3, 4])"
      ],
      "execution_count": 16,
      "outputs": []
    },
    {
      "cell_type": "code",
      "metadata": {
        "id": "3oSNi-kwDKM0",
        "colab_type": "code",
        "colab": {
          "base_uri": "https://localhost:8080/",
          "height": 52
        },
        "outputId": "efda2a2a-4443-42a8-a46f-e2c87a59acd8"
      },
      "source": [
        "# Another method to convert the integer list to float tensor:\n",
        "old_int_tensor = torch.tensor([1, 2, 3, 4])\n",
        "new_float_tensor = old_int_tensor.type(torch.FloatTensor)\n",
        "print('The type of the new float tensor', new_float_tensor.type())\n",
        "new_float_tensor"
      ],
      "execution_count": 17,
      "outputs": [
        {
          "output_type": "stream",
          "text": [
            "The type of the new float tensor torch.FloatTensor\n"
          ],
          "name": "stdout"
        },
        {
          "output_type": "execute_result",
          "data": {
            "text/plain": [
              "tensor([1., 2., 3., 4.])"
            ]
          },
          "metadata": {
            "tags": []
          },
          "execution_count": 17
        }
      ]
    },
    {
      "cell_type": "markdown",
      "metadata": {
        "id": "sSp_XyzBEn2k",
        "colab_type": "text"
      },
      "source": [
        "The tensor_obj.size() helps you to find out the size of the tensor_obj. The tensor_obj.ndimension() shows the dimension of the tensor object."
      ]
    },
    {
      "cell_type": "code",
      "metadata": {
        "id": "W-MVzIELEYzI",
        "colab_type": "code",
        "colab": {
          "base_uri": "https://localhost:8080/",
          "height": 52
        },
        "outputId": "5de42aef-0da6-4395-ade1-765340b674dc"
      },
      "source": [
        "print('The size of the new_float_tensor==> ', new_float_tensor.size())\n",
        "print('The number of dimensions of the new_float_tensors==>',new_float_tensor.ndimension(),'-Dimensional Tensor(Vector)')\n"
      ],
      "execution_count": 18,
      "outputs": [
        {
          "output_type": "stream",
          "text": [
            "The size of the new_float_tensor==>  torch.Size([4])\n",
            "The number of dimensions of the new_float_tensors==> 1 -Dimensional Tensor(Vector)\n"
          ],
          "name": "stdout"
        }
      ]
    },
    {
      "cell_type": "markdown",
      "metadata": {
        "id": "Km-o9riCMlMS",
        "colab_type": "text"
      },
      "source": [
        "The tensor_obj.view(row, column) is used for reshaping a tensor object.\n",
        "\n",
        "What if you have a tensor object with torch.Size([5]) as a new_float_tensor as shown in the previous example?\n",
        "After you execute new_float_tensor.view(5, 1), the size of new_float_tensor will be torch.Size([5, 1]).\n",
        "This means that the tensor object new_float_tensor has been reshaped from a one-dimensional tensor object with 5 elements to a two-dimensional tensor object with 5 rows and 1 column."
      ]
    },
    {
      "cell_type": "code",
      "metadata": {
        "id": "N83kLr45FOTz",
        "colab_type": "code",
        "colab": {
          "base_uri": "https://localhost:8080/",
          "height": 105
        },
        "outputId": "2ac1ba95-99b9-46d7-ce8d-84740b53db73"
      },
      "source": [
        "# Introduce the tensor_obj.view(rows, columns) method:\n",
        "twoD_float_tensor = new_float_tensor.view(4,1)\n",
        "print('Original size: ', new_float_tensor)\n",
        "print('Size after view method ', twoD_float_tensor)"
      ],
      "execution_count": 19,
      "outputs": [
        {
          "output_type": "stream",
          "text": [
            "Original size:  tensor([1., 2., 3., 4.])\n",
            "Size after view method  tensor([[1.],\n",
            "        [2.],\n",
            "        [3.],\n",
            "        [4.]])\n"
          ],
          "name": "stdout"
        }
      ]
    },
    {
      "cell_type": "code",
      "metadata": {
        "id": "m_J3MzM5NTqb",
        "colab_type": "code",
        "colab": {
          "base_uri": "https://localhost:8080/",
          "height": 87
        },
        "outputId": "b2aaffb4-796f-4591-f1a1-d6d77b72ab44"
      },
      "source": [
        "twoD_float_tensor"
      ],
      "execution_count": 20,
      "outputs": [
        {
          "output_type": "execute_result",
          "data": {
            "text/plain": [
              "tensor([[1.],\n",
              "        [2.],\n",
              "        [3.],\n",
              "        [4.]])"
            ]
          },
          "metadata": {
            "tags": []
          },
          "execution_count": 20
        }
      ]
    },
    {
      "cell_type": "code",
      "metadata": {
        "id": "htLM-GlLONqY",
        "colab_type": "code",
        "colab": {
          "base_uri": "https://localhost:8080/",
          "height": 34
        },
        "outputId": "2fdfcc11-b52a-4560-ed77-04afc9502658"
      },
      "source": [
        "twoD_float_tensor.ndimension()"
      ],
      "execution_count": 21,
      "outputs": [
        {
          "output_type": "execute_result",
          "data": {
            "text/plain": [
              "2"
            ]
          },
          "metadata": {
            "tags": []
          },
          "execution_count": 21
        }
      ]
    },
    {
      "cell_type": "code",
      "metadata": {
        "id": "B3mahfK_OR8R",
        "colab_type": "code",
        "colab": {
          "base_uri": "https://localhost:8080/",
          "height": 105
        },
        "outputId": "074c39ab-7cc5-4ebd-d012-0257d4264657"
      },
      "source": [
        "# Introduce the use of -1 in tensor_obj.view(rows, columns)method\n",
        "twoD_float_tensor = new_float_tensor.view(-1, 1)\n",
        "print('Original size: ', new_float_tensor)\n",
        "print('Size after view method ', twoD_float_tensor)"
      ],
      "execution_count": 22,
      "outputs": [
        {
          "output_type": "stream",
          "text": [
            "Original size:  tensor([1., 2., 3., 4.])\n",
            "Size after view method  tensor([[1.],\n",
            "        [2.],\n",
            "        [3.],\n",
            "        [4.]])\n"
          ],
          "name": "stdout"
        }
      ]
    },
    {
      "cell_type": "code",
      "metadata": {
        "id": "zhksLT39Ow_8",
        "colab_type": "code",
        "colab": {
          "base_uri": "https://localhost:8080/",
          "height": 87
        },
        "outputId": "bec3a13d-a8bc-4822-9bbd-0c1d0438d2e4"
      },
      "source": [
        "x = torch.tensor([2, 4, 5, 66])\n",
        "p = x.view(-1, 1)\n",
        "p"
      ],
      "execution_count": 23,
      "outputs": [
        {
          "output_type": "execute_result",
          "data": {
            "text/plain": [
              "tensor([[ 2],\n",
              "        [ 4],\n",
              "        [ 5],\n",
              "        [66]])"
            ]
          },
          "metadata": {
            "tags": []
          },
          "execution_count": 23
        }
      ]
    },
    {
      "cell_type": "code",
      "metadata": {
        "id": "rq-vabANO8NN",
        "colab_type": "code",
        "colab": {
          "base_uri": "https://localhost:8080/",
          "height": 35
        },
        "outputId": "9895eef6-be62-40b8-e8f4-914cb9345136"
      },
      "source": [
        "p.type()"
      ],
      "execution_count": 24,
      "outputs": [
        {
          "output_type": "execute_result",
          "data": {
            "application/vnd.google.colaboratory.intrinsic+json": {
              "type": "string"
            },
            "text/plain": [
              "'torch.LongTensor'"
            ]
          },
          "metadata": {
            "tags": []
          },
          "execution_count": 24
        }
      ]
    },
    {
      "cell_type": "markdown",
      "metadata": {
        "id": "C-0ULWaYPUmi",
        "colab_type": "text"
      },
      "source": [
        "**Convert Numpy array to Tensors:**"
      ]
    },
    {
      "cell_type": "code",
      "metadata": {
        "id": "gV-Col0vPCSn",
        "colab_type": "code",
        "colab": {
          "base_uri": "https://localhost:8080/",
          "height": 34
        },
        "outputId": "c51f8946-9eee-4421-d257-3b7d1783dcfb"
      },
      "source": [
        "numpy_array = np.array([0.0, 1.0, 2.0, 3.0, 4.0])\n",
        "new_tensor = torch.from_numpy(numpy_array)\n",
        "new_tensor "
      ],
      "execution_count": 25,
      "outputs": [
        {
          "output_type": "execute_result",
          "data": {
            "text/plain": [
              "tensor([0., 1., 2., 3., 4.], dtype=torch.float64)"
            ]
          },
          "metadata": {
            "tags": []
          },
          "execution_count": 25
        }
      ]
    },
    {
      "cell_type": "code",
      "metadata": {
        "id": "8YP5pbhgkL9g",
        "colab_type": "code",
        "colab": {
          "base_uri": "https://localhost:8080/",
          "height": 52
        },
        "outputId": "6eeba48b-aaef-490e-dd94-0dac277ada51"
      },
      "source": [
        "print('The type of new_tensor object ', new_tensor.type())\n",
        "print('The dtype of new_tensor object ', new_tensor.dtype)\n"
      ],
      "execution_count": 26,
      "outputs": [
        {
          "output_type": "stream",
          "text": [
            "The type of new_tensor object  torch.DoubleTensor\n",
            "The dtype of new_tensor object  torch.float64\n"
          ],
          "name": "stdout"
        }
      ]
    },
    {
      "cell_type": "markdown",
      "metadata": {
        "id": "JWaXg-qTk3KW",
        "colab_type": "text"
      },
      "source": [
        "**Convert Tensors to numpy arrays:**"
      ]
    },
    {
      "cell_type": "code",
      "metadata": {
        "id": "VZV4Te3gki0K",
        "colab_type": "code",
        "colab": {
          "base_uri": "https://localhost:8080/",
          "height": 34
        },
        "outputId": "9ce218b3-086d-4d56-8abc-3a9f89d5b828"
      },
      "source": [
        "back_to_numpy = new_tensor.numpy()\n",
        "back_to_numpy "
      ],
      "execution_count": 27,
      "outputs": [
        {
          "output_type": "execute_result",
          "data": {
            "text/plain": [
              "array([0., 1., 2., 3., 4.])"
            ]
          },
          "metadata": {
            "tags": []
          },
          "execution_count": 27
        }
      ]
    },
    {
      "cell_type": "code",
      "metadata": {
        "id": "a6tazTNplRCu",
        "colab_type": "code",
        "colab": {
          "base_uri": "https://localhost:8080/",
          "height": 34
        },
        "outputId": "6fa1ffe2-292e-4645-e5fd-1e320ae543da"
      },
      "source": [
        "print('The dtype of back_to _numpy :', back_to_numpy.dtype)"
      ],
      "execution_count": 28,
      "outputs": [
        {
          "output_type": "stream",
          "text": [
            "The dtype of back_to _numpy : float64\n"
          ],
          "name": "stdout"
        }
      ]
    },
    {
      "cell_type": "markdown",
      "metadata": {
        "id": "2uN5QGkLl6eh",
        "colab_type": "text"
      },
      "source": [
        "back_to_numpy and new_tensor still point to numpy_array. As a result if we change numpy_array both back_to_numpy and new_tensor will change. For example if we set all the elements in numpy_array to zeros, back_to_numpy and  new_tensor will follow suit.\n"
      ]
    },
    {
      "cell_type": "code",
      "metadata": {
        "id": "dT0wZ5O8ltTt",
        "colab_type": "code",
        "colab": {
          "base_uri": "https://localhost:8080/",
          "height": 52
        },
        "outputId": "11bccd83-eca9-4e57-bbd8-1fcb85660d70"
      },
      "source": [
        "# set all elements in numpy array to zero: \n",
        "numpy_array[:] = 0\n",
        "print('The new_tensor points to numpy_array : ', new_tensor)\n",
        "print('The back_to_numpy array points to the tensor : ' ,back_to_numpy)"
      ],
      "execution_count": 29,
      "outputs": [
        {
          "output_type": "stream",
          "text": [
            "The new_tensor points to numpy_array :  tensor([0., 0., 0., 0., 0.], dtype=torch.float64)\n",
            "The back_to_numpy array points to the tensor :  [0. 0. 0. 0. 0.]\n"
          ],
          "name": "stdout"
        }
      ]
    },
    {
      "cell_type": "markdown",
      "metadata": {
        "id": "yI2IADsAqW02",
        "colab_type": "text"
      },
      "source": [
        "**Convert pandas_series to Tensors:**"
      ]
    },
    {
      "cell_type": "markdown",
      "metadata": {
        "id": "ZxGXxXPbqgRc",
        "colab_type": "text"
      },
      "source": [
        "Pandas Series can also be converted by using the numpy array that is stored in pandas_series.values. Note that pandas_series can be any pandas_series object."
      ]
    },
    {
      "cell_type": "code",
      "metadata": {
        "id": "RGUEdsFvmiC4",
        "colab_type": "code",
        "colab": {
          "base_uri": "https://localhost:8080/",
          "height": 34
        },
        "outputId": "3d401904-48c7-49b4-e4b8-2ebb7aed9e67"
      },
      "source": [
        "pandas_series = pd.Series([0.1, 2, 0.3, 10.1])\n",
        "new_tensor = torch.from_numpy(pandas_series.values)\n",
        "new_tensor"
      ],
      "execution_count": 30,
      "outputs": [
        {
          "output_type": "execute_result",
          "data": {
            "text/plain": [
              "tensor([ 0.1000,  2.0000,  0.3000, 10.1000], dtype=torch.float64)"
            ]
          },
          "metadata": {
            "tags": []
          },
          "execution_count": 30
        }
      ]
    },
    {
      "cell_type": "code",
      "metadata": {
        "id": "8yIZlmxBq6u8",
        "colab_type": "code",
        "colab": {
          "base_uri": "https://localhost:8080/",
          "height": 52
        },
        "outputId": "9d1ca0e2-eaca-4ed2-d560-0019b3bf220d"
      },
      "source": [
        "print('The dtype of the new_tensor : ', new_tensor.dtype)\n",
        "print('The type of the new_tensor : ', new_tensor.type())"
      ],
      "execution_count": 31,
      "outputs": [
        {
          "output_type": "stream",
          "text": [
            "The dtype of the new_tensor :  torch.float64\n",
            "The type of the new_tensor :  torch.DoubleTensor\n"
          ],
          "name": "stdout"
        }
      ]
    },
    {
      "cell_type": "markdown",
      "metadata": {
        "id": "0dOurMHTrgP3",
        "colab_type": "text"
      },
      "source": [
        "**Indexing & Slicing:**"
      ]
    },
    {
      "cell_type": "code",
      "metadata": {
        "id": "9aJbBU0yrTFS",
        "colab_type": "code",
        "colab": {
          "base_uri": "https://localhost:8080/",
          "height": 87
        },
        "outputId": "ff5babd7-4eac-47d5-fefe-f0b671484384"
      },
      "source": [
        "index_tensor = torch.tensor([55, 1, 3, 54, 11])\n",
        "print('The value of index 0 : ', index_tensor[0])\n",
        "print('The value of index 1 : ', index_tensor[1])\n",
        "print('The value of index 2 : ', index_tensor[2])\n",
        "print('The value of index 3 : ', index_tensor[3])\n"
      ],
      "execution_count": 32,
      "outputs": [
        {
          "output_type": "stream",
          "text": [
            "The value of index 0 :  tensor(55)\n",
            "The value of index 1 :  tensor(1)\n",
            "The value of index 2 :  tensor(3)\n",
            "The value of index 3 :  tensor(54)\n"
          ],
          "name": "stdout"
        }
      ]
    },
    {
      "cell_type": "code",
      "metadata": {
        "id": "NEbO9EuRsDgT",
        "colab_type": "code",
        "colab": {
          "base_uri": "https://localhost:8080/",
          "height": 52
        },
        "outputId": "73144ed2-10e5-498b-bb03-309d7e2d5130"
      },
      "source": [
        "# Change the value of 0 index to 200 : \n",
        "print('The inital value on index 0 : ', index_tensor[0])\n",
        "index_tensor[0] = 200\n",
        "print('Modified Tensor is : ', index_tensor)"
      ],
      "execution_count": 33,
      "outputs": [
        {
          "output_type": "stream",
          "text": [
            "The inital value on index 0 :  tensor(55)\n",
            "Modified Tensor is :  tensor([200,   1,   3,  54,  11])\n"
          ],
          "name": "stdout"
        }
      ]
    },
    {
      "cell_type": "markdown",
      "metadata": {
        "id": "3_zLdo5VtCC8",
        "colab_type": "text"
      },
      "source": [
        "**Tensors Functions:**"
      ]
    },
    {
      "cell_type": "code",
      "metadata": {
        "id": "v2BGeFbXssRz",
        "colab_type": "code",
        "colab": {
          "base_uri": "https://localhost:8080/",
          "height": 34
        },
        "outputId": "08ce8b97-a2b4-445f-9723-13ec1ca72135"
      },
      "source": [
        "# Mean & standard Devition : \n",
        "x = torch.tensor([1.0 , -1.0, 1, -1])\n",
        "x "
      ],
      "execution_count": 34,
      "outputs": [
        {
          "output_type": "execute_result",
          "data": {
            "text/plain": [
              "tensor([ 1., -1.,  1., -1.])"
            ]
          },
          "metadata": {
            "tags": []
          },
          "execution_count": 34
        }
      ]
    },
    {
      "cell_type": "code",
      "metadata": {
        "id": "dISbfioj0WjG",
        "colab_type": "code",
        "colab": {
          "base_uri": "https://localhost:8080/",
          "height": 34
        },
        "outputId": "292df43d-d157-4da7-a506-e75d3bcd7ab4"
      },
      "source": [
        "mean = x.mean()\n",
        "print('The mean of x : ', mean)"
      ],
      "execution_count": 35,
      "outputs": [
        {
          "output_type": "stream",
          "text": [
            "The mean of x :  tensor(0.)\n"
          ],
          "name": "stdout"
        }
      ]
    },
    {
      "cell_type": "code",
      "metadata": {
        "id": "Y3eAuIIy0jCg",
        "colab_type": "code",
        "colab": {
          "base_uri": "https://localhost:8080/",
          "height": 34
        },
        "outputId": "942b0ce0-ed47-4fc3-e9a0-500e5788c5ea"
      },
      "source": [
        "std = x.std()\n",
        "print('The standard deviation of x : ', std)"
      ],
      "execution_count": 36,
      "outputs": [
        {
          "output_type": "stream",
          "text": [
            "The standard deviation of x :  tensor(1.1547)\n"
          ],
          "name": "stdout"
        }
      ]
    },
    {
      "cell_type": "code",
      "metadata": {
        "id": "9XvuTDGX0xcI",
        "colab_type": "code",
        "colab": {
          "base_uri": "https://localhost:8080/",
          "height": 34
        },
        "outputId": "2b9ced14-2686-4b05-d142-502d3eb7c95d"
      },
      "source": [
        "max_min_tensor = torch.tensor([1, 2, 3, 4, 5])\n",
        "max_min_tensor "
      ],
      "execution_count": 37,
      "outputs": [
        {
          "output_type": "execute_result",
          "data": {
            "text/plain": [
              "tensor([1, 2, 3, 4, 5])"
            ]
          },
          "metadata": {
            "tags": []
          },
          "execution_count": 37
        }
      ]
    },
    {
      "cell_type": "code",
      "metadata": {
        "id": "zxYDSia31ZrX",
        "colab_type": "code",
        "colab": {
          "base_uri": "https://localhost:8080/",
          "height": 34
        },
        "outputId": "686da3d6-f01d-4f2b-c786-28a10a5a1b6c"
      },
      "source": [
        "# find the max value : \n",
        "max_val = max_min_tensor.max()\n",
        "print('The maximum number in the tensor is : ', max_val)\n"
      ],
      "execution_count": 38,
      "outputs": [
        {
          "output_type": "stream",
          "text": [
            "The maximum number in the tensor is :  tensor(5)\n"
          ],
          "name": "stdout"
        }
      ]
    },
    {
      "cell_type": "code",
      "metadata": {
        "id": "6oTx2uCA1rvn",
        "colab_type": "code",
        "colab": {
          "base_uri": "https://localhost:8080/",
          "height": 34
        },
        "outputId": "bd59e2c9-ef06-4395-ae67-a642a5b0df5b"
      },
      "source": [
        "# find the min value : \n",
        "min_val = max_min_tensor.min()\n",
        "print('The minimum number in the tensor is : ', min_val)\n"
      ],
      "execution_count": 39,
      "outputs": [
        {
          "output_type": "stream",
          "text": [
            "The minimum number in the tensor is :  tensor(1)\n"
          ],
          "name": "stdout"
        }
      ]
    },
    {
      "cell_type": "markdown",
      "metadata": {
        "id": "MWtdlDal2Ciz",
        "colab_type": "text"
      },
      "source": [
        "**Create Tensor by torch.linespace():**"
      ]
    },
    {
      "cell_type": "markdown",
      "metadata": {
        "id": "DNwh_0Mn8MOB",
        "colab_type": "text"
      },
      "source": [
        "A useful function for plotting mathematical functions is torch.linspace(). torch.linspace() returns evenly spaced numbers over a specified interval. You specify the starting point of the sequence and the ending point of the sequence. The parameter steps indicates the number of samples to generate. Now, you'll work with steps = 5."
      ]
    },
    {
      "cell_type": "code",
      "metadata": {
        "id": "tpvfGaoW19RC",
        "colab_type": "code",
        "colab": {
          "base_uri": "https://localhost:8080/",
          "height": 34
        },
        "outputId": "b3307c2a-b4d9-4c0b-ffbf-1a838860c021"
      },
      "source": [
        "# First try on using linespace to create tensor : \n",
        "len_5_tensor = torch.linspace(-2, 2, steps= 5)\n",
        "print('First Try on linespace',len_5_tensor)"
      ],
      "execution_count": 40,
      "outputs": [
        {
          "output_type": "stream",
          "text": [
            "First Try on linespace tensor([-2., -1.,  0.,  1.,  2.])\n"
          ],
          "name": "stdout"
        }
      ]
    },
    {
      "cell_type": "code",
      "metadata": {
        "id": "T2TzIN3S8vp7",
        "colab_type": "code",
        "colab": {
          "base_uri": "https://localhost:8080/",
          "height": 52
        },
        "outputId": "46dddd66-12fd-41ba-9e4e-4199b762efb8"
      },
      "source": [
        "# Assign steps with 9 : \n",
        "len_9_tensor = torch.linspace(-2, 2, steps=9)\n",
        "print('Second Try on linespace', len_9_tensor)"
      ],
      "execution_count": 41,
      "outputs": [
        {
          "output_type": "stream",
          "text": [
            "Second Try on linespace tensor([-2.0000, -1.5000, -1.0000, -0.5000,  0.0000,  0.5000,  1.0000,  1.5000,\n",
            "         2.0000])\n"
          ],
          "name": "stdout"
        }
      ]
    },
    {
      "cell_type": "markdown",
      "metadata": {
        "id": "nhDSqIme9RMo",
        "colab_type": "text"
      },
      "source": [
        "**Tensors operations:**"
      ]
    },
    {
      "cell_type": "code",
      "metadata": {
        "id": "zWNIgtmS9FWV",
        "colab_type": "code",
        "colab": {}
      },
      "source": [
        ""
      ],
      "execution_count": null,
      "outputs": []
    }
  ]
}