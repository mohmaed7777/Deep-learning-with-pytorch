{
  "nbformat": 4,
  "nbformat_minor": 0,
  "metadata": {
    "colab": {
      "name": "1-D TorchTensors.ipynb",
      "provenance": [],
      "authorship_tag": "ABX9TyP9owxLhPcvrk2Ju1SDIB2u",
      "include_colab_link": true
    },
    "kernelspec": {
      "name": "python3",
      "display_name": "Python 3"
    }
  },
  "cells": [
    {
      "cell_type": "markdown",
      "metadata": {
        "id": "view-in-github",
        "colab_type": "text"
      },
      "source": [
        "<a href=\"https://colab.research.google.com/github/mohmaed7777/Deep-learning-with-pytorch/blob/master/1_D_TorchTensors.ipynb\" target=\"_parent\"><img src=\"https://colab.research.google.com/assets/colab-badge.svg\" alt=\"Open In Colab\"/></a>"
      ]
    },
    {
      "cell_type": "markdown",
      "metadata": {
        "id": "L0elEFPSXIlY",
        "colab_type": "text"
      },
      "source": [
        "## **Preparation**\n",
        "\n",
        "Import the following libraries that we wil use for this lab:"
      ]
    },
    {
      "cell_type": "code",
      "metadata": {
        "id": "DkrhKGy2T4_U",
        "colab_type": "code",
        "colab": {}
      },
      "source": [
        "import torch \n",
        "import numpy as np\n",
        "import pandas as pd \n",
        "import matplotlib.pyplot as plt\n",
        "%matplotlib inline "
      ],
      "execution_count": 40,
      "outputs": []
    },
    {
      "cell_type": "code",
      "metadata": {
        "id": "ExU1ARubT9KJ",
        "colab_type": "code",
        "colab": {
          "base_uri": "https://localhost:8080/",
          "height": 34
        },
        "outputId": "2d2e63f8-8dad-4fdc-f632-5c58be1fe4e0"
      },
      "source": [
        "print(torch.__version__)"
      ],
      "execution_count": 41,
      "outputs": [
        {
          "output_type": "stream",
          "text": [
            "1.6.0+cu101\n"
          ],
          "name": "stdout"
        }
      ]
    },
    {
      "cell_type": "markdown",
      "metadata": {
        "id": "HBblA_rmXxrX",
        "colab_type": "text"
      },
      "source": [
        "This is the function for plotting diagrams. You will use this function to plot the vectors in Coordinate system."
      ]
    },
    {
      "cell_type": "code",
      "metadata": {
        "id": "mI77cb2wUC2C",
        "colab_type": "code",
        "colab": {}
      },
      "source": [
        "# Plot vecotrs, please keep the parameters in the same length\n",
        "# @param: Vectors = [{\"vector\": vector variable, \"name\": name of vector, \"color\": color of the vector on diagram}]\n",
        "    \n",
        "def plotVec(vectors):\n",
        "    ax = plt.axes()\n",
        "    \n",
        "    # For loop to draw the vectors\n",
        "    for vec in vectors:\n",
        "        ax.arrow(0, 0, *vec[\"vector\"], head_width = 0.05,color = vec[\"color\"], head_length = 0.1)\n",
        "        plt.text(*(vec[\"vector\"] + 0.1), vec[\"name\"])\n",
        "    \n",
        "    plt.ylim(-2,2)\n",
        "    plt.xlim(-2,2)"
      ],
      "execution_count": 42,
      "outputs": []
    },
    {
      "cell_type": "markdown",
      "metadata": {
        "id": "1RYkEz0mX79r",
        "colab_type": "text"
      },
      "source": [
        "# **Types and shapes:**"
      ]
    },
    {
      "cell_type": "code",
      "metadata": {
        "id": "rzaK32pTX58Z",
        "colab_type": "code",
        "colab": {
          "base_uri": "https://localhost:8080/",
          "height": 34
        },
        "outputId": "75c19d89-6fd4-43d8-ff9e-43eaef591263"
      },
      "source": [
        "# convert an integer of python lists with length 5 to \n",
        "# a pytorch tensors as follows : \n",
        "a = [1, 2, 3, 4, 5]\n",
        "ints_to_tensors = torch.tensor(a)\n",
        "ints_to_tensors\n"
      ],
      "execution_count": 43,
      "outputs": [
        {
          "output_type": "execute_result",
          "data": {
            "text/plain": [
              "tensor([1, 2, 3, 4, 5])"
            ]
          },
          "metadata": {
            "tags": []
          },
          "execution_count": 43
        }
      ]
    },
    {
      "cell_type": "code",
      "metadata": {
        "id": "ZKrhss4AYvSD",
        "colab_type": "code",
        "colab": {
          "base_uri": "https://localhost:8080/",
          "height": 52
        },
        "outputId": "632d0659-524a-4255-9258-fe3ad500180d"
      },
      "source": [
        "print('The dtype of tensor object after converting it to torch tensor: ',ints_to_tensors.dtype)\n",
        "print('The type of tensor object after converting it to torch tensor: ', ints_to_tensors.type())"
      ],
      "execution_count": 44,
      "outputs": [
        {
          "output_type": "stream",
          "text": [
            "The dtype of tensor object after converting it to torch tensor:  torch.int64\n",
            "The type of tensor object after converting it to torch tensor:  torch.LongTensor\n"
          ],
          "name": "stdout"
        }
      ]
    },
    {
      "cell_type": "code",
      "metadata": {
        "id": "AEHJmYUmZnGE",
        "colab_type": "code",
        "colab": {
          "base_uri": "https://localhost:8080/",
          "height": 34
        },
        "outputId": "b71d125b-aa4f-4a5d-83c0-b969f929a6ad"
      },
      "source": [
        "type(ints_to_tensors)"
      ],
      "execution_count": 47,
      "outputs": [
        {
          "output_type": "execute_result",
          "data": {
            "text/plain": [
              "torch.Tensor"
            ]
          },
          "metadata": {
            "tags": []
          },
          "execution_count": 47
        }
      ]
    },
    {
      "cell_type": "code",
      "metadata": {
        "id": "xvRzBbrY-p3c",
        "colab_type": "code",
        "colab": {
          "base_uri": "https://localhost:8080/",
          "height": 34
        },
        "outputId": "24312624-1018-40a7-f417-3ad83ad82796"
      },
      "source": [
        "# convert a float list with length 5 to a tensor :\n",
        "float_to_tensor = torch.tensor([0.0, 1.0,2.0, 3.0, 4.0])\n",
        "float_to_tensor"
      ],
      "execution_count": 48,
      "outputs": [
        {
          "output_type": "execute_result",
          "data": {
            "text/plain": [
              "tensor([0., 1., 2., 3., 4.])"
            ]
          },
          "metadata": {
            "tags": []
          },
          "execution_count": 48
        }
      ]
    },
    {
      "cell_type": "code",
      "metadata": {
        "id": "IbsTaI4X_Kms",
        "colab_type": "code",
        "colab": {
          "base_uri": "https://localhost:8080/",
          "height": 52
        },
        "outputId": "3a333e1b-10d6-4c2d-b71f-41b0159cede1"
      },
      "source": [
        "print('The dtype of tensor object after converting it to tensors==> ',float_to_tensor.dtype)\n",
        "print('The type of tensor after converting it to a tensor==> ',float_to_tensor.type())"
      ],
      "execution_count": 49,
      "outputs": [
        {
          "output_type": "stream",
          "text": [
            "The dtype of tensor object after converting it to tensors==>  torch.float32\n",
            "The type of tensor after converting it to a tensor==>  torch.FloatTensor\n"
          ],
          "name": "stdout"
        }
      ]
    },
    {
      "cell_type": "code",
      "metadata": {
        "id": "CG-RZfOz_UQ-",
        "colab_type": "code",
        "colab": {
          "base_uri": "https://localhost:8080/",
          "height": 34
        },
        "outputId": "33aa1719-8b71-4a6f-fa3e-5b2e330f3d86"
      },
      "source": [
        "# Convert a float python list to a float tensor : \n",
        "list_of_floats = [0.0, 1.0, 2.0, 3.0, 4.0]\n",
        "float_int_tensors = torch.tensor(list_of_floats, dtype=torch.int64)\n",
        "float_int_tensors"
      ],
      "execution_count": 50,
      "outputs": [
        {
          "output_type": "execute_result",
          "data": {
            "text/plain": [
              "tensor([0, 1, 2, 3, 4])"
            ]
          },
          "metadata": {
            "tags": []
          },
          "execution_count": 50
        }
      ]
    },
    {
      "cell_type": "code",
      "metadata": {
        "id": "Dpugf2k8BN9d",
        "colab_type": "code",
        "colab": {
          "base_uri": "https://localhost:8080/",
          "height": 35
        },
        "outputId": "7b9b15fc-852d-48be-f6ce-dc3ae81dbd43"
      },
      "source": [
        "float_int_tensors.type()"
      ],
      "execution_count": 51,
      "outputs": [
        {
          "output_type": "execute_result",
          "data": {
            "application/vnd.google.colaboratory.intrinsic+json": {
              "type": "string"
            },
            "text/plain": [
              "'torch.LongTensor'"
            ]
          },
          "metadata": {
            "tags": []
          },
          "execution_count": 51
        }
      ]
    },
    {
      "cell_type": "code",
      "metadata": {
        "id": "cMONlyriBSqh",
        "colab_type": "code",
        "colab": {
          "base_uri": "https://localhost:8080/",
          "height": 34
        },
        "outputId": "95de7369-fcd1-42cb-ad2b-c4cb6aede7fa"
      },
      "source": [
        "float_int_tensors.dtype"
      ],
      "execution_count": 52,
      "outputs": [
        {
          "output_type": "execute_result",
          "data": {
            "text/plain": [
              "torch.int64"
            ]
          },
          "metadata": {
            "tags": []
          },
          "execution_count": 52
        }
      ]
    },
    {
      "cell_type": "markdown",
      "metadata": {
        "id": "SzKAHwYJBtXg",
        "colab_type": "text"
      },
      "source": [
        "From the previous examples, you see that torch.tensor() converts the list to the tensor type, which is similar to the original list type. However, what if you want to convert the list to a certain tensor type? torch contains the methods required to do this conversion. The following code converts an integer list to float tensor:"
      ]
    },
    {
      "cell_type": "code",
      "metadata": {
        "id": "KgPiFAxqBjtw",
        "colab_type": "code",
        "colab": {
          "base_uri": "https://localhost:8080/",
          "height": 52
        },
        "outputId": "9369a60d-6c64-4de3-964e-034fe53053af"
      },
      "source": [
        "# Convert an integer list with length 5 to a float tensors:\n",
        "new_float_tensor = torch.FloatTensor([1, 2, 3, 4, 5])\n",
        "print('The type of the new tensor==> ',new_float_tensor.type())\n",
        "print('The dtype of the new tensor==> ',new_float_tensor.dtype)"
      ],
      "execution_count": 53,
      "outputs": [
        {
          "output_type": "stream",
          "text": [
            "The type of the new tensor==>  torch.FloatTensor\n",
            "The dtype of the new tensor==>  torch.float32\n"
          ],
          "name": "stdout"
        }
      ]
    },
    {
      "cell_type": "code",
      "metadata": {
        "id": "9PqErsIoCLeg",
        "colab_type": "code",
        "colab": {}
      },
      "source": [
        "new_float_tensor = torch.FloatTensor([0, 1, 2, 3, 4])"
      ],
      "execution_count": 54,
      "outputs": []
    },
    {
      "cell_type": "code",
      "metadata": {
        "id": "3oSNi-kwDKM0",
        "colab_type": "code",
        "colab": {
          "base_uri": "https://localhost:8080/",
          "height": 52
        },
        "outputId": "ba0cdb51-8099-4d9b-af4b-aa122cd48054"
      },
      "source": [
        "# Another method to convert the integer list to float tensor:\n",
        "old_int_tensor = torch.tensor([1, 2, 3, 4])\n",
        "new_float_tensor = old_int_tensor.type(torch.FloatTensor)\n",
        "print('The type of the new float tensor', new_float_tensor.type())\n",
        "new_float_tensor"
      ],
      "execution_count": 55,
      "outputs": [
        {
          "output_type": "stream",
          "text": [
            "The type of the new float tensor torch.FloatTensor\n"
          ],
          "name": "stdout"
        },
        {
          "output_type": "execute_result",
          "data": {
            "text/plain": [
              "tensor([1., 2., 3., 4.])"
            ]
          },
          "metadata": {
            "tags": []
          },
          "execution_count": 55
        }
      ]
    },
    {
      "cell_type": "markdown",
      "metadata": {
        "id": "sSp_XyzBEn2k",
        "colab_type": "text"
      },
      "source": [
        "The tensor_obj.size() helps you to find out the size of the tensor_obj. The tensor_obj.ndimension() shows the dimension of the tensor object."
      ]
    },
    {
      "cell_type": "code",
      "metadata": {
        "id": "W-MVzIELEYzI",
        "colab_type": "code",
        "colab": {
          "base_uri": "https://localhost:8080/",
          "height": 52
        },
        "outputId": "048e51c0-da17-45e4-e688-10a4dfa194ae"
      },
      "source": [
        "print('The size of the new_float_tensor==> ', new_float_tensor.size())\n",
        "print('The number of dimensions of the new_float_tensors==>',new_float_tensor.ndimension(),'-Dimensional Tensor(Vector)')\n"
      ],
      "execution_count": 56,
      "outputs": [
        {
          "output_type": "stream",
          "text": [
            "The size of the new_float_tensor==>  torch.Size([4])\n",
            "The number of dimensions of the new_float_tensors==> 1 -Dimensional Tensor(Vector)\n"
          ],
          "name": "stdout"
        }
      ]
    },
    {
      "cell_type": "markdown",
      "metadata": {
        "id": "Km-o9riCMlMS",
        "colab_type": "text"
      },
      "source": [
        "The tensor_obj.view(row, column) is used for reshaping a tensor object.\n",
        "\n",
        "What if you have a tensor object with torch.Size([5]) as a new_float_tensor as shown in the previous example?\n",
        "After you execute new_float_tensor.view(5, 1), the size of new_float_tensor will be torch.Size([5, 1]).\n",
        "This means that the tensor object new_float_tensor has been reshaped from a one-dimensional tensor object with 5 elements to a two-dimensional tensor object with 5 rows and 1 column."
      ]
    },
    {
      "cell_type": "code",
      "metadata": {
        "id": "N83kLr45FOTz",
        "colab_type": "code",
        "colab": {
          "base_uri": "https://localhost:8080/",
          "height": 105
        },
        "outputId": "51f818e6-245c-44ae-a331-c68c743c4d6f"
      },
      "source": [
        "# Introduce the tensor_obj.view(rows, columns) method:\n",
        "twoD_float_tensor = new_float_tensor.view(4,1)\n",
        "print('Original size: ', new_float_tensor)\n",
        "print('Size after view method ', twoD_float_tensor)"
      ],
      "execution_count": 58,
      "outputs": [
        {
          "output_type": "stream",
          "text": [
            "Original size:  tensor([1., 2., 3., 4.])\n",
            "Size after view method  tensor([[1.],\n",
            "        [2.],\n",
            "        [3.],\n",
            "        [4.]])\n"
          ],
          "name": "stdout"
        }
      ]
    },
    {
      "cell_type": "code",
      "metadata": {
        "id": "m_J3MzM5NTqb",
        "colab_type": "code",
        "colab": {
          "base_uri": "https://localhost:8080/",
          "height": 87
        },
        "outputId": "6e185617-ebf3-4537-93a2-a0a7d293c2e3"
      },
      "source": [
        "twoD_float_tensor"
      ],
      "execution_count": 59,
      "outputs": [
        {
          "output_type": "execute_result",
          "data": {
            "text/plain": [
              "tensor([[1.],\n",
              "        [2.],\n",
              "        [3.],\n",
              "        [4.]])"
            ]
          },
          "metadata": {
            "tags": []
          },
          "execution_count": 59
        }
      ]
    },
    {
      "cell_type": "code",
      "metadata": {
        "id": "htLM-GlLONqY",
        "colab_type": "code",
        "colab": {
          "base_uri": "https://localhost:8080/",
          "height": 34
        },
        "outputId": "bb8094e3-af9a-4473-d8cc-98571fcf5f79"
      },
      "source": [
        "twoD_float_tensor.ndimension()"
      ],
      "execution_count": 60,
      "outputs": [
        {
          "output_type": "execute_result",
          "data": {
            "text/plain": [
              "2"
            ]
          },
          "metadata": {
            "tags": []
          },
          "execution_count": 60
        }
      ]
    },
    {
      "cell_type": "code",
      "metadata": {
        "id": "B3mahfK_OR8R",
        "colab_type": "code",
        "colab": {
          "base_uri": "https://localhost:8080/",
          "height": 105
        },
        "outputId": "8260a95f-3ca3-4825-91cd-dee908424e4f"
      },
      "source": [
        "# Introduce the use of -1 in tensor_obj.view(rows, columns)method\n",
        "twoD_float_tensor = new_float_tensor.view(-1, 1)\n",
        "print('Original size: ', new_float_tensor)\n",
        "print('Size after view method ', twoD_float_tensor)"
      ],
      "execution_count": 61,
      "outputs": [
        {
          "output_type": "stream",
          "text": [
            "Original size:  tensor([1., 2., 3., 4.])\n",
            "Size after view method  tensor([[1.],\n",
            "        [2.],\n",
            "        [3.],\n",
            "        [4.]])\n"
          ],
          "name": "stdout"
        }
      ]
    },
    {
      "cell_type": "code",
      "metadata": {
        "id": "zhksLT39Ow_8",
        "colab_type": "code",
        "colab": {
          "base_uri": "https://localhost:8080/",
          "height": 87
        },
        "outputId": "bb976b6d-6cf1-4e93-fc8c-502cf84cdc30"
      },
      "source": [
        "x = torch.tensor([2, 4, 5, 66])\n",
        "p = x.view(-1, 1)\n",
        "p"
      ],
      "execution_count": 62,
      "outputs": [
        {
          "output_type": "execute_result",
          "data": {
            "text/plain": [
              "tensor([[ 2],\n",
              "        [ 4],\n",
              "        [ 5],\n",
              "        [66]])"
            ]
          },
          "metadata": {
            "tags": []
          },
          "execution_count": 62
        }
      ]
    },
    {
      "cell_type": "code",
      "metadata": {
        "id": "rq-vabANO8NN",
        "colab_type": "code",
        "colab": {
          "base_uri": "https://localhost:8080/",
          "height": 35
        },
        "outputId": "a1308203-826f-41b9-820b-265760ca2daf"
      },
      "source": [
        "p.type()"
      ],
      "execution_count": 63,
      "outputs": [
        {
          "output_type": "execute_result",
          "data": {
            "application/vnd.google.colaboratory.intrinsic+json": {
              "type": "string"
            },
            "text/plain": [
              "'torch.LongTensor'"
            ]
          },
          "metadata": {
            "tags": []
          },
          "execution_count": 63
        }
      ]
    },
    {
      "cell_type": "markdown",
      "metadata": {
        "id": "C-0ULWaYPUmi",
        "colab_type": "text"
      },
      "source": [
        "**Convert Numpy array to Tensors:**"
      ]
    },
    {
      "cell_type": "code",
      "metadata": {
        "id": "gV-Col0vPCSn",
        "colab_type": "code",
        "colab": {}
      },
      "source": [
        ""
      ],
      "execution_count": null,
      "outputs": []
    }
  ]
}